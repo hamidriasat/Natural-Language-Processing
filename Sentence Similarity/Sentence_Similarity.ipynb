{
  "nbformat": 4,
  "nbformat_minor": 0,
  "metadata": {
    "colab": {
      "name": "Sentence_Similarity",
      "provenance": [],
      "collapsed_sections": [],
      "authorship_tag": "ABX9TyOJCeV9b/P775CMmjGlSDiW",
      "include_colab_link": true
    },
    "kernelspec": {
      "name": "python3",
      "display_name": "Python 3"
    },
    "accelerator": "GPU"
  },
  "cells": [
    {
      "cell_type": "markdown",
      "metadata": {
        "id": "view-in-github",
        "colab_type": "text"
      },
      "source": [
        "<a href=\"https://colab.research.google.com/github/hamidriasat/Natural-Language-Processing/blob/master/Sentence_Similarity.ipynb\" target=\"_parent\"><img src=\"https://colab.research.google.com/assets/colab-badge.svg\" alt=\"Open In Colab\"/></a>"
      ]
    },
    {
      "cell_type": "markdown",
      "metadata": {
        "id": "ynqkO_xVvgsX"
      },
      "source": [
        "## Install sentence-transformers with pip\n",
        "### download a pretrained mode\n"
      ]
    },
    {
      "cell_type": "code",
      "metadata": {
        "id": "Il9GaGAHDdv8"
      },
      "source": [
        "pip install -U sentence-transformers"
      ],
      "execution_count": null,
      "outputs": []
    },
    {
      "cell_type": "code",
      "metadata": {
        "id": "0C7_m5L2Bkl5",
        "outputId": "b1c5c9ed-f127-41bb-f389-d9f0344c4220",
        "colab": {
          "base_uri": "https://localhost:8080/"
        }
      },
      "source": [
        "import scipy\n",
        "from sentence_transformers import SentenceTransformer\n",
        "model = SentenceTransformer('bert-base-nli-stsb-mean-tokens')"
      ],
      "execution_count": null,
      "outputs": [
        {
          "output_type": "stream",
          "text": [
            "100%|██████████| 405M/405M [00:22<00:00, 17.8MB/s]\n"
          ],
          "name": "stderr"
        }
      ]
    },
    {
      "cell_type": "markdown",
      "metadata": {
        "id": "zF0nWUSRwQkb"
      },
      "source": [
        "## Get Data\n",
        "### Load data into list\n",
        "### remove Duplicates"
      ]
    },
    {
      "cell_type": "code",
      "metadata": {
        "id": "GZ20jLOaR3zV",
        "outputId": "02f7c499-fb8b-4177-b7a7-2e72d3ab5fb9",
        "colab": {
          "base_uri": "https://localhost:8080/"
        }
      },
      "source": [
        "!gdown --id 1mFLnqf_GrqJbSDYTh9XMfndmbu0P3bx5\n"
      ],
      "execution_count": null,
      "outputs": [
        {
          "output_type": "stream",
          "text": [
            "Downloading...\n",
            "From: https://drive.google.com/uc?id=1mFLnqf_GrqJbSDYTh9XMfndmbu0P3bx5\n",
            "To: /content/SORs.xlsx\n",
            "\r  0% 0.00/20.1k [00:00<?, ?B/s]\r100% 20.1k/20.1k [00:00<00:00, 16.0MB/s]\n"
          ],
          "name": "stdout"
        }
      ]
    },
    {
      "cell_type": "code",
      "metadata": {
        "id": "4nP5v2c_Bk1G",
        "outputId": "144bf9a9-39cc-4df0-d61d-afa7bcae7783",
        "colab": {
          "base_uri": "https://localhost:8080/"
        }
      },
      "source": [
        "from xlrd import open_workbook\n",
        "\n",
        "wb = open_workbook('SORs.xlsx')\n",
        "for sheet in wb.sheets():\n",
        "    number_of_rows = sheet.nrows\n",
        "    number_of_columns = sheet.ncols\n",
        "corpus= []   \n",
        "for row in range(1,number_of_rows):\n",
        "    value  = (sheet.cell(row,0).value)\n",
        "    corpus.append(value)\n",
        "print(len(corpus))"
      ],
      "execution_count": null,
      "outputs": [
        {
          "output_type": "stream",
          "text": [
            "201\n"
          ],
          "name": "stdout"
        }
      ]
    },
    {
      "cell_type": "code",
      "metadata": {
        "id": "dtKO_52QoeY1",
        "outputId": "b2102ae3-9239-44cb-a7f7-85303993d290",
        "colab": {
          "base_uri": "https://localhost:8080/"
        }
      },
      "source": [
        "# remove duplicates\n",
        "corpus = list(set(corpus))\n",
        "print(len(corpus))"
      ],
      "execution_count": null,
      "outputs": [
        {
          "output_type": "stream",
          "text": [
            "70\n"
          ],
          "name": "stdout"
        }
      ]
    },
    {
      "cell_type": "markdown",
      "metadata": {
        "id": "M69zM8xQxSBT"
      },
      "source": [
        "## Generate embeddings\n",
        "### run model to find similar sentences"
      ]
    },
    {
      "cell_type": "code",
      "metadata": {
        "id": "piXI2qQlGJ8A"
      },
      "source": [
        "# Get a vector for each headline (sentence) in the corpus\n",
        "corpus_embeddings = model.encode(corpus)"
      ],
      "execution_count": null,
      "outputs": []
    },
    {
      "cell_type": "code",
      "metadata": {
        "id": "cjjSZIuGGJ_K"
      },
      "source": [
        "# Define search queries and embed them to vectors as well\n",
        "queries = [\n",
        "    'Face and eye protection equipment shall be kept clean and in good repair. The use of this type equipment with structural or optical defects shall be prohibited.', ]\n",
        "query_embeddings = model.encode(queries)"
      ],
      "execution_count": null,
      "outputs": []
    },
    {
      "cell_type": "code",
      "metadata": {
        "id": "ipS-t54YrbiW",
        "outputId": "e0782c8a-bf13-412f-da6c-7cffb81d5bc5",
        "colab": {
          "base_uri": "https://localhost:8080/"
        }
      },
      "source": [
        "# For each search term \n",
        "# select threshold base results\n",
        "threshold = .65\n",
        "# You can change the threshold to increase and decrease the Fp and Fn \n",
        "for query, query_embedding in zip(queries, query_embeddings):\n",
        "    distances = scipy.spatial.distance.cdist([query_embedding], corpus_embeddings, \"cosine\")[0]\n",
        "\n",
        "    results = zip(range(len(distances)), distances)\n",
        "    results = sorted(results, key=lambda x: x[1])\n",
        "\n",
        "    print(\"\\n\\n======================\\n\\n\")\n",
        "    print(\"Query:\", query)\n",
        "    print(\"\\nSimilar sentences in corpus:\")\n",
        "\n",
        "    for idx, distance in results:\n",
        "        if (1-distance) >= threshold:\n",
        "          print(corpus[idx].strip(), \"(Score: %.4f)\" % (1-distance))\n",
        "        else:\n",
        "          break\n"
      ],
      "execution_count": null,
      "outputs": [
        {
          "output_type": "stream",
          "text": [
            "\n",
            "\n",
            "======================\n",
            "\n",
            "\n",
            "Query: Face and eye protection equipment shall be kept clean and in good repair. The use of this type equipment with structural or optical defects shall be prohibited.\n",
            "\n",
            "Similar sentences in corpus:\n",
            "Face and eye protection equipment shall be kept clean and in good repair. The use of this type equipment with structural or optical defects shall be prohibited. (Score: 1.0000)\n",
            "Aisles and passageways shall be kept clear to provide for the free and safe movement of material handling equipment or employees. Such areas shall be kept in good repair. (Score: 0.7952)\n",
            "All cab glass shall be safety glass, or equivalent, that introduces no visible distortion affecting the safe operation of any machine covered by this subpart. (Score: 0.6560)\n",
            "Examination. The employer shall ensure that electrical equipment is free from recognized hazards that are likely to cause death or serious physical harm to employees. Safety of equipment shall be determined on the basis of the following considerations: (i) Suitability for installation and use in conformity with the provisions of this subpart. Suitability of equipment for an identified purpose may be evidenced by listing, labeling, or certification for that identified purpose. (ii) Mechanical strength and durability, including, for parts designed to enclose and protect other equipment, the adequacy of the protection thus provided. (iii) Electrical insulation. (iv) Heating effects under conditions of use. (v) Arcing effects. (vi) Classification by type, size, voltage, current capacity, specific use. (vii) Other factors which contribute to the practical safeguarding of employees using or likely to come in contact with the equipment. (v) Arcing effects. (vii) Classification by type, size, voltage, current capacity, specific use. (vii) Other factors which contribute to the practical safeguarding of employees using or likely to come in contact with the equipment. (Score: 0.6554)\n"
          ],
          "name": "stdout"
        }
      ]
    }
  ]
}
