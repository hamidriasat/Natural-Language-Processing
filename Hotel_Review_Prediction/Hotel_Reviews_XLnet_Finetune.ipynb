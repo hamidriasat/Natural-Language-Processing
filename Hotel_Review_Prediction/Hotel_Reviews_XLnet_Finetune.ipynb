{
  "nbformat": 4,
  "nbformat_minor": 0,
  "metadata": {
    "colab": {
      "name": "Hotel_Reviews_XLnet_Finetune.ipynb",
      "provenance": [],
      "collapsed_sections": [],
      "machine_shape": "hm",
      "authorship_tag": "ABX9TyM/dZxM6pk0+dx9oAOM0yc3",
      "include_colab_link": true
    },
    "kernelspec": {
      "name": "python3",
      "display_name": "Python 3"
    },
    "accelerator": "GPU",
    "widgets": {
      "application/vnd.jupyter.widget-state+json": {
        "155ece99ecf645c8bc0a44e80c3d8d1c": {
          "model_module": "@jupyter-widgets/controls",
          "model_name": "HBoxModel",
          "state": {
            "_view_name": "HBoxView",
            "_dom_classes": [],
            "_model_name": "HBoxModel",
            "_view_module": "@jupyter-widgets/controls",
            "_model_module_version": "1.5.0",
            "_view_count": null,
            "_view_module_version": "1.5.0",
            "box_style": "",
            "layout": "IPY_MODEL_eb72ba37f7ad4ac7bd1ed14a43360dc5",
            "_model_module": "@jupyter-widgets/controls",
            "children": [
              "IPY_MODEL_94629abd472b476da5c7b07c80584793",
              "IPY_MODEL_6d7d990953854bd2a5f0e8b313f8c93a"
            ]
          }
        },
        "eb72ba37f7ad4ac7bd1ed14a43360dc5": {
          "model_module": "@jupyter-widgets/base",
          "model_name": "LayoutModel",
          "state": {
            "_view_name": "LayoutView",
            "grid_template_rows": null,
            "right": null,
            "justify_content": null,
            "_view_module": "@jupyter-widgets/base",
            "overflow": null,
            "_model_module_version": "1.2.0",
            "_view_count": null,
            "flex_flow": null,
            "width": null,
            "min_width": null,
            "border": null,
            "align_items": null,
            "bottom": null,
            "_model_module": "@jupyter-widgets/base",
            "top": null,
            "grid_column": null,
            "overflow_y": null,
            "overflow_x": null,
            "grid_auto_flow": null,
            "grid_area": null,
            "grid_template_columns": null,
            "flex": null,
            "_model_name": "LayoutModel",
            "justify_items": null,
            "grid_row": null,
            "max_height": null,
            "align_content": null,
            "visibility": null,
            "align_self": null,
            "height": null,
            "min_height": null,
            "padding": null,
            "grid_auto_rows": null,
            "grid_gap": null,
            "max_width": null,
            "order": null,
            "_view_module_version": "1.2.0",
            "grid_template_areas": null,
            "object_position": null,
            "object_fit": null,
            "grid_auto_columns": null,
            "margin": null,
            "display": null,
            "left": null
          }
        },
        "94629abd472b476da5c7b07c80584793": {
          "model_module": "@jupyter-widgets/controls",
          "model_name": "FloatProgressModel",
          "state": {
            "_view_name": "ProgressView",
            "style": "IPY_MODEL_ba0daed937cb4765a1b73734283a4ae7",
            "_dom_classes": [],
            "description": "Downloading: 100%",
            "_model_name": "FloatProgressModel",
            "bar_style": "success",
            "max": 798011,
            "_view_module": "@jupyter-widgets/controls",
            "_model_module_version": "1.5.0",
            "value": 798011,
            "_view_count": null,
            "_view_module_version": "1.5.0",
            "orientation": "horizontal",
            "min": 0,
            "description_tooltip": null,
            "_model_module": "@jupyter-widgets/controls",
            "layout": "IPY_MODEL_f274cbc8d1194808b50af395a0f7cd0f"
          }
        },
        "6d7d990953854bd2a5f0e8b313f8c93a": {
          "model_module": "@jupyter-widgets/controls",
          "model_name": "HTMLModel",
          "state": {
            "_view_name": "HTMLView",
            "style": "IPY_MODEL_458c1aa481314d50b7349a1f7c85948d",
            "_dom_classes": [],
            "description": "",
            "_model_name": "HTMLModel",
            "placeholder": "​",
            "_view_module": "@jupyter-widgets/controls",
            "_model_module_version": "1.5.0",
            "value": " 798k/798k [00:00&lt;00:00, 3.53MB/s]",
            "_view_count": null,
            "_view_module_version": "1.5.0",
            "description_tooltip": null,
            "_model_module": "@jupyter-widgets/controls",
            "layout": "IPY_MODEL_3e4dd5186d9448b8ae40c61228e84372"
          }
        },
        "ba0daed937cb4765a1b73734283a4ae7": {
          "model_module": "@jupyter-widgets/controls",
          "model_name": "ProgressStyleModel",
          "state": {
            "_view_name": "StyleView",
            "_model_name": "ProgressStyleModel",
            "description_width": "initial",
            "_view_module": "@jupyter-widgets/base",
            "_model_module_version": "1.5.0",
            "_view_count": null,
            "_view_module_version": "1.2.0",
            "bar_color": null,
            "_model_module": "@jupyter-widgets/controls"
          }
        },
        "f274cbc8d1194808b50af395a0f7cd0f": {
          "model_module": "@jupyter-widgets/base",
          "model_name": "LayoutModel",
          "state": {
            "_view_name": "LayoutView",
            "grid_template_rows": null,
            "right": null,
            "justify_content": null,
            "_view_module": "@jupyter-widgets/base",
            "overflow": null,
            "_model_module_version": "1.2.0",
            "_view_count": null,
            "flex_flow": null,
            "width": null,
            "min_width": null,
            "border": null,
            "align_items": null,
            "bottom": null,
            "_model_module": "@jupyter-widgets/base",
            "top": null,
            "grid_column": null,
            "overflow_y": null,
            "overflow_x": null,
            "grid_auto_flow": null,
            "grid_area": null,
            "grid_template_columns": null,
            "flex": null,
            "_model_name": "LayoutModel",
            "justify_items": null,
            "grid_row": null,
            "max_height": null,
            "align_content": null,
            "visibility": null,
            "align_self": null,
            "height": null,
            "min_height": null,
            "padding": null,
            "grid_auto_rows": null,
            "grid_gap": null,
            "max_width": null,
            "order": null,
            "_view_module_version": "1.2.0",
            "grid_template_areas": null,
            "object_position": null,
            "object_fit": null,
            "grid_auto_columns": null,
            "margin": null,
            "display": null,
            "left": null
          }
        },
        "458c1aa481314d50b7349a1f7c85948d": {
          "model_module": "@jupyter-widgets/controls",
          "model_name": "DescriptionStyleModel",
          "state": {
            "_view_name": "StyleView",
            "_model_name": "DescriptionStyleModel",
            "description_width": "",
            "_view_module": "@jupyter-widgets/base",
            "_model_module_version": "1.5.0",
            "_view_count": null,
            "_view_module_version": "1.2.0",
            "_model_module": "@jupyter-widgets/controls"
          }
        },
        "3e4dd5186d9448b8ae40c61228e84372": {
          "model_module": "@jupyter-widgets/base",
          "model_name": "LayoutModel",
          "state": {
            "_view_name": "LayoutView",
            "grid_template_rows": null,
            "right": null,
            "justify_content": null,
            "_view_module": "@jupyter-widgets/base",
            "overflow": null,
            "_model_module_version": "1.2.0",
            "_view_count": null,
            "flex_flow": null,
            "width": null,
            "min_width": null,
            "border": null,
            "align_items": null,
            "bottom": null,
            "_model_module": "@jupyter-widgets/base",
            "top": null,
            "grid_column": null,
            "overflow_y": null,
            "overflow_x": null,
            "grid_auto_flow": null,
            "grid_area": null,
            "grid_template_columns": null,
            "flex": null,
            "_model_name": "LayoutModel",
            "justify_items": null,
            "grid_row": null,
            "max_height": null,
            "align_content": null,
            "visibility": null,
            "align_self": null,
            "height": null,
            "min_height": null,
            "padding": null,
            "grid_auto_rows": null,
            "grid_gap": null,
            "max_width": null,
            "order": null,
            "_view_module_version": "1.2.0",
            "grid_template_areas": null,
            "object_position": null,
            "object_fit": null,
            "grid_auto_columns": null,
            "margin": null,
            "display": null,
            "left": null
          }
        },
        "9528e3506bef457f9d466be1ad384239": {
          "model_module": "@jupyter-widgets/controls",
          "model_name": "HBoxModel",
          "state": {
            "_view_name": "HBoxView",
            "_dom_classes": [],
            "_model_name": "HBoxModel",
            "_view_module": "@jupyter-widgets/controls",
            "_model_module_version": "1.5.0",
            "_view_count": null,
            "_view_module_version": "1.5.0",
            "box_style": "",
            "layout": "IPY_MODEL_d0823145239c4c0d8c5cd53a8eee58fc",
            "_model_module": "@jupyter-widgets/controls",
            "children": [
              "IPY_MODEL_bfd11ace73294a92bc3e73f9b3a621c7",
              "IPY_MODEL_89e5812089fa4e00bb06fbb25564ef23"
            ]
          }
        },
        "d0823145239c4c0d8c5cd53a8eee58fc": {
          "model_module": "@jupyter-widgets/base",
          "model_name": "LayoutModel",
          "state": {
            "_view_name": "LayoutView",
            "grid_template_rows": null,
            "right": null,
            "justify_content": null,
            "_view_module": "@jupyter-widgets/base",
            "overflow": null,
            "_model_module_version": "1.2.0",
            "_view_count": null,
            "flex_flow": null,
            "width": null,
            "min_width": null,
            "border": null,
            "align_items": null,
            "bottom": null,
            "_model_module": "@jupyter-widgets/base",
            "top": null,
            "grid_column": null,
            "overflow_y": null,
            "overflow_x": null,
            "grid_auto_flow": null,
            "grid_area": null,
            "grid_template_columns": null,
            "flex": null,
            "_model_name": "LayoutModel",
            "justify_items": null,
            "grid_row": null,
            "max_height": null,
            "align_content": null,
            "visibility": null,
            "align_self": null,
            "height": null,
            "min_height": null,
            "padding": null,
            "grid_auto_rows": null,
            "grid_gap": null,
            "max_width": null,
            "order": null,
            "_view_module_version": "1.2.0",
            "grid_template_areas": null,
            "object_position": null,
            "object_fit": null,
            "grid_auto_columns": null,
            "margin": null,
            "display": null,
            "left": null
          }
        },
        "bfd11ace73294a92bc3e73f9b3a621c7": {
          "model_module": "@jupyter-widgets/controls",
          "model_name": "FloatProgressModel",
          "state": {
            "_view_name": "ProgressView",
            "style": "IPY_MODEL_106df0771f4f4e2b9f62f1dd9dc86e17",
            "_dom_classes": [],
            "description": "Downloading: 100%",
            "_model_name": "FloatProgressModel",
            "bar_style": "success",
            "max": 760,
            "_view_module": "@jupyter-widgets/controls",
            "_model_module_version": "1.5.0",
            "value": 760,
            "_view_count": null,
            "_view_module_version": "1.5.0",
            "orientation": "horizontal",
            "min": 0,
            "description_tooltip": null,
            "_model_module": "@jupyter-widgets/controls",
            "layout": "IPY_MODEL_dfdeee59b8da4cf092a69f8b8b54cdcc"
          }
        },
        "89e5812089fa4e00bb06fbb25564ef23": {
          "model_module": "@jupyter-widgets/controls",
          "model_name": "HTMLModel",
          "state": {
            "_view_name": "HTMLView",
            "style": "IPY_MODEL_3115d4e28f314fa39ac7d310c917babd",
            "_dom_classes": [],
            "description": "",
            "_model_name": "HTMLModel",
            "placeholder": "​",
            "_view_module": "@jupyter-widgets/controls",
            "_model_module_version": "1.5.0",
            "value": " 760/760 [00:00&lt;00:00, 5.61kB/s]",
            "_view_count": null,
            "_view_module_version": "1.5.0",
            "description_tooltip": null,
            "_model_module": "@jupyter-widgets/controls",
            "layout": "IPY_MODEL_a83e0aa2d138431991112a4d7601969c"
          }
        },
        "106df0771f4f4e2b9f62f1dd9dc86e17": {
          "model_module": "@jupyter-widgets/controls",
          "model_name": "ProgressStyleModel",
          "state": {
            "_view_name": "StyleView",
            "_model_name": "ProgressStyleModel",
            "description_width": "initial",
            "_view_module": "@jupyter-widgets/base",
            "_model_module_version": "1.5.0",
            "_view_count": null,
            "_view_module_version": "1.2.0",
            "bar_color": null,
            "_model_module": "@jupyter-widgets/controls"
          }
        },
        "dfdeee59b8da4cf092a69f8b8b54cdcc": {
          "model_module": "@jupyter-widgets/base",
          "model_name": "LayoutModel",
          "state": {
            "_view_name": "LayoutView",
            "grid_template_rows": null,
            "right": null,
            "justify_content": null,
            "_view_module": "@jupyter-widgets/base",
            "overflow": null,
            "_model_module_version": "1.2.0",
            "_view_count": null,
            "flex_flow": null,
            "width": null,
            "min_width": null,
            "border": null,
            "align_items": null,
            "bottom": null,
            "_model_module": "@jupyter-widgets/base",
            "top": null,
            "grid_column": null,
            "overflow_y": null,
            "overflow_x": null,
            "grid_auto_flow": null,
            "grid_area": null,
            "grid_template_columns": null,
            "flex": null,
            "_model_name": "LayoutModel",
            "justify_items": null,
            "grid_row": null,
            "max_height": null,
            "align_content": null,
            "visibility": null,
            "align_self": null,
            "height": null,
            "min_height": null,
            "padding": null,
            "grid_auto_rows": null,
            "grid_gap": null,
            "max_width": null,
            "order": null,
            "_view_module_version": "1.2.0",
            "grid_template_areas": null,
            "object_position": null,
            "object_fit": null,
            "grid_auto_columns": null,
            "margin": null,
            "display": null,
            "left": null
          }
        },
        "3115d4e28f314fa39ac7d310c917babd": {
          "model_module": "@jupyter-widgets/controls",
          "model_name": "DescriptionStyleModel",
          "state": {
            "_view_name": "StyleView",
            "_model_name": "DescriptionStyleModel",
            "description_width": "",
            "_view_module": "@jupyter-widgets/base",
            "_model_module_version": "1.5.0",
            "_view_count": null,
            "_view_module_version": "1.2.0",
            "_model_module": "@jupyter-widgets/controls"
          }
        },
        "a83e0aa2d138431991112a4d7601969c": {
          "model_module": "@jupyter-widgets/base",
          "model_name": "LayoutModel",
          "state": {
            "_view_name": "LayoutView",
            "grid_template_rows": null,
            "right": null,
            "justify_content": null,
            "_view_module": "@jupyter-widgets/base",
            "overflow": null,
            "_model_module_version": "1.2.0",
            "_view_count": null,
            "flex_flow": null,
            "width": null,
            "min_width": null,
            "border": null,
            "align_items": null,
            "bottom": null,
            "_model_module": "@jupyter-widgets/base",
            "top": null,
            "grid_column": null,
            "overflow_y": null,
            "overflow_x": null,
            "grid_auto_flow": null,
            "grid_area": null,
            "grid_template_columns": null,
            "flex": null,
            "_model_name": "LayoutModel",
            "justify_items": null,
            "grid_row": null,
            "max_height": null,
            "align_content": null,
            "visibility": null,
            "align_self": null,
            "height": null,
            "min_height": null,
            "padding": null,
            "grid_auto_rows": null,
            "grid_gap": null,
            "max_width": null,
            "order": null,
            "_view_module_version": "1.2.0",
            "grid_template_areas": null,
            "object_position": null,
            "object_fit": null,
            "grid_auto_columns": null,
            "margin": null,
            "display": null,
            "left": null
          }
        },
        "0fbac7c2d5c049a19eaeb64a39b78523": {
          "model_module": "@jupyter-widgets/controls",
          "model_name": "HBoxModel",
          "state": {
            "_view_name": "HBoxView",
            "_dom_classes": [],
            "_model_name": "HBoxModel",
            "_view_module": "@jupyter-widgets/controls",
            "_model_module_version": "1.5.0",
            "_view_count": null,
            "_view_module_version": "1.5.0",
            "box_style": "",
            "layout": "IPY_MODEL_472e0ac49b0b44fda5a2b4d2103e6502",
            "_model_module": "@jupyter-widgets/controls",
            "children": [
              "IPY_MODEL_b31465fd74604007990315171fe6a39c",
              "IPY_MODEL_377a96201fa14b23ac6853197dddc237"
            ]
          }
        },
        "472e0ac49b0b44fda5a2b4d2103e6502": {
          "model_module": "@jupyter-widgets/base",
          "model_name": "LayoutModel",
          "state": {
            "_view_name": "LayoutView",
            "grid_template_rows": null,
            "right": null,
            "justify_content": null,
            "_view_module": "@jupyter-widgets/base",
            "overflow": null,
            "_model_module_version": "1.2.0",
            "_view_count": null,
            "flex_flow": null,
            "width": null,
            "min_width": null,
            "border": null,
            "align_items": null,
            "bottom": null,
            "_model_module": "@jupyter-widgets/base",
            "top": null,
            "grid_column": null,
            "overflow_y": null,
            "overflow_x": null,
            "grid_auto_flow": null,
            "grid_area": null,
            "grid_template_columns": null,
            "flex": null,
            "_model_name": "LayoutModel",
            "justify_items": null,
            "grid_row": null,
            "max_height": null,
            "align_content": null,
            "visibility": null,
            "align_self": null,
            "height": null,
            "min_height": null,
            "padding": null,
            "grid_auto_rows": null,
            "grid_gap": null,
            "max_width": null,
            "order": null,
            "_view_module_version": "1.2.0",
            "grid_template_areas": null,
            "object_position": null,
            "object_fit": null,
            "grid_auto_columns": null,
            "margin": null,
            "display": null,
            "left": null
          }
        },
        "b31465fd74604007990315171fe6a39c": {
          "model_module": "@jupyter-widgets/controls",
          "model_name": "FloatProgressModel",
          "state": {
            "_view_name": "ProgressView",
            "style": "IPY_MODEL_10c025df022f4e8bba2e580979de618f",
            "_dom_classes": [],
            "description": "Downloading: 100%",
            "_model_name": "FloatProgressModel",
            "bar_style": "success",
            "max": 467042463,
            "_view_module": "@jupyter-widgets/controls",
            "_model_module_version": "1.5.0",
            "value": 467042463,
            "_view_count": null,
            "_view_module_version": "1.5.0",
            "orientation": "horizontal",
            "min": 0,
            "description_tooltip": null,
            "_model_module": "@jupyter-widgets/controls",
            "layout": "IPY_MODEL_2352a9b3357a492f83fada0b897520c2"
          }
        },
        "377a96201fa14b23ac6853197dddc237": {
          "model_module": "@jupyter-widgets/controls",
          "model_name": "HTMLModel",
          "state": {
            "_view_name": "HTMLView",
            "style": "IPY_MODEL_195a46cfc2fc4760a19d5c476f81067b",
            "_dom_classes": [],
            "description": "",
            "_model_name": "HTMLModel",
            "placeholder": "​",
            "_view_module": "@jupyter-widgets/controls",
            "_model_module_version": "1.5.0",
            "value": " 467M/467M [00:08&lt;00:00, 52.1MB/s]",
            "_view_count": null,
            "_view_module_version": "1.5.0",
            "description_tooltip": null,
            "_model_module": "@jupyter-widgets/controls",
            "layout": "IPY_MODEL_be98d3e837b8470894eb9c33e1e3aefd"
          }
        },
        "10c025df022f4e8bba2e580979de618f": {
          "model_module": "@jupyter-widgets/controls",
          "model_name": "ProgressStyleModel",
          "state": {
            "_view_name": "StyleView",
            "_model_name": "ProgressStyleModel",
            "description_width": "initial",
            "_view_module": "@jupyter-widgets/base",
            "_model_module_version": "1.5.0",
            "_view_count": null,
            "_view_module_version": "1.2.0",
            "bar_color": null,
            "_model_module": "@jupyter-widgets/controls"
          }
        },
        "2352a9b3357a492f83fada0b897520c2": {
          "model_module": "@jupyter-widgets/base",
          "model_name": "LayoutModel",
          "state": {
            "_view_name": "LayoutView",
            "grid_template_rows": null,
            "right": null,
            "justify_content": null,
            "_view_module": "@jupyter-widgets/base",
            "overflow": null,
            "_model_module_version": "1.2.0",
            "_view_count": null,
            "flex_flow": null,
            "width": null,
            "min_width": null,
            "border": null,
            "align_items": null,
            "bottom": null,
            "_model_module": "@jupyter-widgets/base",
            "top": null,
            "grid_column": null,
            "overflow_y": null,
            "overflow_x": null,
            "grid_auto_flow": null,
            "grid_area": null,
            "grid_template_columns": null,
            "flex": null,
            "_model_name": "LayoutModel",
            "justify_items": null,
            "grid_row": null,
            "max_height": null,
            "align_content": null,
            "visibility": null,
            "align_self": null,
            "height": null,
            "min_height": null,
            "padding": null,
            "grid_auto_rows": null,
            "grid_gap": null,
            "max_width": null,
            "order": null,
            "_view_module_version": "1.2.0",
            "grid_template_areas": null,
            "object_position": null,
            "object_fit": null,
            "grid_auto_columns": null,
            "margin": null,
            "display": null,
            "left": null
          }
        },
        "195a46cfc2fc4760a19d5c476f81067b": {
          "model_module": "@jupyter-widgets/controls",
          "model_name": "DescriptionStyleModel",
          "state": {
            "_view_name": "StyleView",
            "_model_name": "DescriptionStyleModel",
            "description_width": "",
            "_view_module": "@jupyter-widgets/base",
            "_model_module_version": "1.5.0",
            "_view_count": null,
            "_view_module_version": "1.2.0",
            "_model_module": "@jupyter-widgets/controls"
          }
        },
        "be98d3e837b8470894eb9c33e1e3aefd": {
          "model_module": "@jupyter-widgets/base",
          "model_name": "LayoutModel",
          "state": {
            "_view_name": "LayoutView",
            "grid_template_rows": null,
            "right": null,
            "justify_content": null,
            "_view_module": "@jupyter-widgets/base",
            "overflow": null,
            "_model_module_version": "1.2.0",
            "_view_count": null,
            "flex_flow": null,
            "width": null,
            "min_width": null,
            "border": null,
            "align_items": null,
            "bottom": null,
            "_model_module": "@jupyter-widgets/base",
            "top": null,
            "grid_column": null,
            "overflow_y": null,
            "overflow_x": null,
            "grid_auto_flow": null,
            "grid_area": null,
            "grid_template_columns": null,
            "flex": null,
            "_model_name": "LayoutModel",
            "justify_items": null,
            "grid_row": null,
            "max_height": null,
            "align_content": null,
            "visibility": null,
            "align_self": null,
            "height": null,
            "min_height": null,
            "padding": null,
            "grid_auto_rows": null,
            "grid_gap": null,
            "max_width": null,
            "order": null,
            "_view_module_version": "1.2.0",
            "grid_template_areas": null,
            "object_position": null,
            "object_fit": null,
            "grid_auto_columns": null,
            "margin": null,
            "display": null,
            "left": null
          }
        }
      }
    }
  },
  "cells": [
    {
      "cell_type": "markdown",
      "metadata": {
        "id": "view-in-github",
        "colab_type": "text"
      },
      "source": [
        "<a href=\"https://colab.research.google.com/github/hamidriasat/Natural-Language-Processing/blob/master/Hotel_Review_Prediction/Hotel_Reviews_XLnet_Finetune.ipynb\" target=\"_parent\"><img src=\"https://colab.research.google.com/assets/colab-badge.svg\" alt=\"Open In Colab\"/></a>"
      ]
    },
    {
      "cell_type": "code",
      "metadata": {
        "id": "ngusBU9qQQNc",
        "outputId": "2d450f16-4673-4ed8-9853-0a233dcaa37c",
        "colab": {
          "base_uri": "https://localhost:8080/"
        }
      },
      "source": [
        "# Install transformers libarary and pytorch\n",
        "!pip install transformers\n",
        "!pip install torch"
      ],
      "execution_count": null,
      "outputs": [
        {
          "output_type": "stream",
          "text": [
            "Collecting transformers\n",
            "\u001b[?25l  Downloading https://files.pythonhosted.org/packages/2c/4e/4f1ede0fd7a36278844a277f8d53c21f88f37f3754abf76a5d6224f76d4a/transformers-3.4.0-py3-none-any.whl (1.3MB)\n",
            "\u001b[K     |████████████████████████████████| 1.3MB 2.8MB/s \n",
            "\u001b[?25hRequirement already satisfied: filelock in /usr/local/lib/python3.6/dist-packages (from transformers) (3.0.12)\n",
            "Requirement already satisfied: regex!=2019.12.17 in /usr/local/lib/python3.6/dist-packages (from transformers) (2019.12.20)\n",
            "Requirement already satisfied: numpy in /usr/local/lib/python3.6/dist-packages (from transformers) (1.18.5)\n",
            "Requirement already satisfied: tqdm>=4.27 in /usr/local/lib/python3.6/dist-packages (from transformers) (4.41.1)\n",
            "Collecting sacremoses\n",
            "\u001b[?25l  Downloading https://files.pythonhosted.org/packages/7d/34/09d19aff26edcc8eb2a01bed8e98f13a1537005d31e95233fd48216eed10/sacremoses-0.0.43.tar.gz (883kB)\n",
            "\u001b[K     |████████████████████████████████| 890kB 15.8MB/s \n",
            "\u001b[?25hRequirement already satisfied: requests in /usr/local/lib/python3.6/dist-packages (from transformers) (2.23.0)\n",
            "Collecting sentencepiece!=0.1.92\n",
            "\u001b[?25l  Downloading https://files.pythonhosted.org/packages/e5/2d/6d4ca4bef9a67070fa1cac508606328329152b1df10bdf31fb6e4e727894/sentencepiece-0.1.94-cp36-cp36m-manylinux2014_x86_64.whl (1.1MB)\n",
            "\u001b[K     |████████████████████████████████| 1.1MB 20.6MB/s \n",
            "\u001b[?25hRequirement already satisfied: dataclasses; python_version < \"3.7\" in /usr/local/lib/python3.6/dist-packages (from transformers) (0.7)\n",
            "Requirement already satisfied: packaging in /usr/local/lib/python3.6/dist-packages (from transformers) (20.4)\n",
            "Collecting tokenizers==0.9.2\n",
            "\u001b[?25l  Downloading https://files.pythonhosted.org/packages/7c/a5/78be1a55b2ac8d6a956f0a211d372726e2b1dd2666bb537fea9b03abd62c/tokenizers-0.9.2-cp36-cp36m-manylinux1_x86_64.whl (2.9MB)\n",
            "\u001b[K     |████████████████████████████████| 2.9MB 29.4MB/s \n",
            "\u001b[?25hRequirement already satisfied: protobuf in /usr/local/lib/python3.6/dist-packages (from transformers) (3.12.4)\n",
            "Requirement already satisfied: six in /usr/local/lib/python3.6/dist-packages (from sacremoses->transformers) (1.15.0)\n",
            "Requirement already satisfied: click in /usr/local/lib/python3.6/dist-packages (from sacremoses->transformers) (7.1.2)\n",
            "Requirement already satisfied: joblib in /usr/local/lib/python3.6/dist-packages (from sacremoses->transformers) (0.17.0)\n",
            "Requirement already satisfied: urllib3!=1.25.0,!=1.25.1,<1.26,>=1.21.1 in /usr/local/lib/python3.6/dist-packages (from requests->transformers) (1.24.3)\n",
            "Requirement already satisfied: chardet<4,>=3.0.2 in /usr/local/lib/python3.6/dist-packages (from requests->transformers) (3.0.4)\n",
            "Requirement already satisfied: idna<3,>=2.5 in /usr/local/lib/python3.6/dist-packages (from requests->transformers) (2.10)\n",
            "Requirement already satisfied: certifi>=2017.4.17 in /usr/local/lib/python3.6/dist-packages (from requests->transformers) (2020.6.20)\n",
            "Requirement already satisfied: pyparsing>=2.0.2 in /usr/local/lib/python3.6/dist-packages (from packaging->transformers) (2.4.7)\n",
            "Requirement already satisfied: setuptools in /usr/local/lib/python3.6/dist-packages (from protobuf->transformers) (50.3.2)\n",
            "Building wheels for collected packages: sacremoses\n",
            "  Building wheel for sacremoses (setup.py) ... \u001b[?25l\u001b[?25hdone\n",
            "  Created wheel for sacremoses: filename=sacremoses-0.0.43-cp36-none-any.whl size=893257 sha256=364b20476f6dc572ac4c91b0f9cb8163160d0d6fc71846426708a067936f1da3\n",
            "  Stored in directory: /root/.cache/pip/wheels/29/3c/fd/7ce5c3f0666dab31a50123635e6fb5e19ceb42ce38d4e58f45\n",
            "Successfully built sacremoses\n",
            "Installing collected packages: sacremoses, sentencepiece, tokenizers, transformers\n",
            "Successfully installed sacremoses-0.0.43 sentencepiece-0.1.94 tokenizers-0.9.2 transformers-3.4.0\n",
            "Requirement already satisfied: torch in /usr/local/lib/python3.6/dist-packages (1.7.0+cu101)\n",
            "Requirement already satisfied: future in /usr/local/lib/python3.6/dist-packages (from torch) (0.16.0)\n",
            "Requirement already satisfied: typing-extensions in /usr/local/lib/python3.6/dist-packages (from torch) (3.7.4.3)\n",
            "Requirement already satisfied: numpy in /usr/local/lib/python3.6/dist-packages (from torch) (1.18.5)\n",
            "Requirement already satisfied: dataclasses in /usr/local/lib/python3.6/dist-packages (from torch) (0.7)\n"
          ],
          "name": "stdout"
        }
      ]
    },
    {
      "cell_type": "code",
      "metadata": {
        "id": "3x-YrnSsczy9",
        "outputId": "5d0482c9-6b42-4793-9b32-bae82b511f65",
        "colab": {
          "base_uri": "https://localhost:8080/"
        }
      },
      "source": [
        "#  instal  langdetect to check text language\n",
        "!pip install langdetect\n"
      ],
      "execution_count": null,
      "outputs": [
        {
          "output_type": "stream",
          "text": [
            "Collecting langdetect\n",
            "\u001b[?25l  Downloading https://files.pythonhosted.org/packages/56/a3/8407c1e62d5980188b4acc45ef3d94b933d14a2ebc9ef3505f22cf772570/langdetect-1.0.8.tar.gz (981kB)\n",
            "\u001b[K     |████████████████████████████████| 983kB 2.9MB/s \n",
            "\u001b[?25hRequirement already satisfied: six in /usr/local/lib/python3.6/dist-packages (from langdetect) (1.15.0)\n",
            "Building wheels for collected packages: langdetect\n",
            "  Building wheel for langdetect (setup.py) ... \u001b[?25l\u001b[?25hdone\n",
            "  Created wheel for langdetect: filename=langdetect-1.0.8-cp36-none-any.whl size=993195 sha256=e74ab3c9f8577498e6f3748028870853a7236166178215c333513ec092419943\n",
            "  Stored in directory: /root/.cache/pip/wheels/8d/b3/aa/6d99de9f3841d7d3d40a60ea06e6d669e8e5012e6c8b947a57\n",
            "Successfully built langdetect\n",
            "Installing collected packages: langdetect\n",
            "Successfully installed langdetect-1.0.8\n"
          ],
          "name": "stdout"
        }
      ]
    },
    {
      "cell_type": "code",
      "metadata": {
        "id": "iW8eS2oPQVLz"
      },
      "source": [
        "# make necessary imports\n",
        "import torch\n",
        "from torch.utils.data import TensorDataset, DataLoader, RandomSampler, SequentialSampler\n",
        "from keras.preprocessing.sequence import pad_sequences\n",
        "from sklearn.model_selection import train_test_split\n",
        "\n",
        "\n",
        "# from pytorch_transformers import XLNetModel, XLNetTokenizer, XLNetForSequenceClassification\n",
        "# from pytorch_transformers import AdamW\n",
        "from transformers import XLNetModel, XLNetTokenizer, XLNetForSequenceClassification\n",
        "from transformers import AdamW\n",
        "\n",
        "from tqdm import tqdm, trange\n",
        "import pandas as pd\n",
        "import io\n",
        "import numpy as np\n",
        "import matplotlib.pyplot as plt\n",
        "% matplotlib inline\n",
        "import os\n",
        "from collections import Counter\n",
        "import json\n",
        "from langdetect import detect\n",
        "\n",
        "\n"
      ],
      "execution_count": null,
      "outputs": []
    },
    {
      "cell_type": "code",
      "metadata": {
        "id": "MrSvjwDaQmdY",
        "outputId": "f98fa381-c7e8-4059-e0ce-6db53fe2752d",
        "colab": {
          "base_uri": "https://localhost:8080/",
          "height": 35
        }
      },
      "source": [
        "# check gpu is available or not\n",
        "device = torch.device(\"cuda\" if torch.cuda.is_available() else \"cpu\")\n",
        "n_gpu = torch.cuda.device_count()\n",
        "torch.cuda.get_device_name(0)"
      ],
      "execution_count": null,
      "outputs": [
        {
          "output_type": "execute_result",
          "data": {
            "application/vnd.google.colaboratory.intrinsic+json": {
              "type": "string"
            },
            "text/plain": [
              "'Tesla P100-PCIE-16GB'"
            ]
          },
          "metadata": {
            "tags": []
          },
          "execution_count": 7
        }
      ]
    },
    {
      "cell_type": "code",
      "metadata": {
        "id": "gme_x2qjSonK",
        "outputId": "aae7453d-b670-4f53-961b-8ef2f939b305",
        "colab": {
          "base_uri": "https://localhost:8080/"
        }
      },
      "source": [
        "#  download data set from website\n",
        "!wget http://times.cs.uiuc.edu/~wang296/Data/LARA/TripAdvisor/TripAdvisorJson.tar.bz2\n"
      ],
      "execution_count": null,
      "outputs": [
        {
          "output_type": "stream",
          "text": [
            "--2020-11-07 10:40:25--  http://times.cs.uiuc.edu/~wang296/Data/LARA/TripAdvisor/TripAdvisorJson.tar.bz2\n",
            "Resolving times.cs.uiuc.edu (times.cs.uiuc.edu)... 192.17.58.170\n",
            "Connecting to times.cs.uiuc.edu (times.cs.uiuc.edu)|192.17.58.170|:80... connected.\n",
            "HTTP request sent, awaiting response... 200 OK\n",
            "Length: 455746769 (435M) [application/x-bzip2]\n",
            "Saving to: ‘TripAdvisorJson.tar.bz2’\n",
            "\n",
            "TripAdvisorJson.tar 100%[===================>] 434.63M  91.3MB/s    in 5.7s    \n",
            "\n",
            "2020-11-07 10:40:30 (76.3 MB/s) - ‘TripAdvisorJson.tar.bz2’ saved [455746769/455746769]\n",
            "\n"
          ],
          "name": "stdout"
        }
      ]
    },
    {
      "cell_type": "code",
      "metadata": {
        "id": "h8wkLY-SkdCW"
      },
      "source": [
        "# unzip data set\n",
        "import shutil\n",
        "shutil.unpack_archive(\"TripAdvisorJson.tar.bz2\", \"/content/\")"
      ],
      "execution_count": null,
      "outputs": []
    },
    {
      "cell_type": "code",
      "metadata": {
        "id": "HQ4vrOLML742"
      },
      "source": [
        "# to calculate moving average\n",
        "def getAvg(prev_avg, x, n): \n",
        "    return ((prev_avg * \n",
        "             n + x) / \n",
        "            (n + 1)); "
      ],
      "execution_count": null,
      "outputs": []
    },
    {
      "cell_type": "markdown",
      "metadata": {
        "id": "w7Ry7BVsPdmP"
      },
      "source": [
        "# Perform Exploratory data analysis (EDA)\n",
        "check total number of input reviews\n",
        "\n",
        "average length of reviews "
      ]
    },
    {
      "cell_type": "code",
      "metadata": {
        "id": "08AkPwjHpGm_",
        "outputId": "a50fb103-ac4c-4941-8a2f-1ebeee1c5660",
        "colab": {
          "base_uri": "https://localhost:8080/"
        }
      },
      "source": [
        "\n",
        "fileNames = os.listdir(\"json\")\n",
        "count= 0\n",
        "avgContentLength = 0\n",
        "\n",
        "ratings = []\n",
        "for fileName in fileNames:\n",
        "    with open((\"json/\"+fileName)) as file:\n",
        "        fileData = json.load(file)\n",
        "        for review in fileData[\"Reviews\"]:\n",
        "            if ('Content' in review and len(review['Content']) != 0 and 'Overall' in review[\"Ratings\"] and len(review[\"Ratings\"]['Overall']) != 0):\n",
        "                content = review[\"Content\"]\n",
        "                rating = review[\"Ratings\"][\"Overall\"]\n",
        "                \n",
        "                ratings.append(rating)\n",
        "                avgContentLength = getAvg(avgContentLength, len(content.split()), count);\n",
        "                count += 1\n",
        "    \n",
        "print(\"Total reviews\")    \n",
        "print(len(ratings))\n",
        "print(\"Average length of each review\")\n",
        "print(avgContentLength)\n"
      ],
      "execution_count": null,
      "outputs": [
        {
          "output_type": "stream",
          "text": [
            "Total reviews\n",
            "1621956\n",
            "Average length of each review\n",
            "178.08645055722894\n"
          ],
          "name": "stdout"
        }
      ]
    },
    {
      "cell_type": "code",
      "metadata": {
        "id": "dGy1oYorFVaW",
        "outputId": "cc6f0af7-f553-4f36-f39c-df5d350f8bc4",
        "colab": {
          "base_uri": "https://localhost:8080/"
        }
      },
      "source": [
        "#  get number of occurrences for each element\n",
        "Counter( ratings )"
      ],
      "execution_count": null,
      "outputs": [
        {
          "output_type": "execute_result",
          "data": {
            "text/plain": [
              "Counter({'0': 1934,\n",
              "         '0.0': 1,\n",
              "         '1': 10194,\n",
              "         '1.0': 99173,\n",
              "         '2': 12083,\n",
              "         '2.0': 103418,\n",
              "         '3': 15626,\n",
              "         '3.0': 195121,\n",
              "         '4': 45357,\n",
              "         '4.0': 463650,\n",
              "         '5': 59923,\n",
              "         '5.0': 615476})"
            ]
          },
          "metadata": {
            "tags": []
          },
          "execution_count": 12
        }
      ]
    },
    {
      "cell_type": "code",
      "metadata": {
        "id": "mDvTQZPmv5ND",
        "outputId": "5b78f2c7-0f28-4b35-9908-1858e86d820d",
        "colab": {
          "base_uri": "https://localhost:8080/"
        }
      },
      "source": [
        "# Since 1.0 and 1  is same category so combine them\n",
        "ratings = np.where(ratings== '0.0', 0, ratings) \n",
        "ratings = np.where(ratings== '1.0', 1, ratings) \n",
        "ratings = np.where(ratings== '2.0', 2, ratings) \n",
        "ratings = np.where(ratings== '3.0', 3, ratings) \n",
        "ratings = np.where(ratings== '4.0', 4, ratings) \n",
        "ratings = np.where(ratings== '5.0', 5, ratings) \n",
        "ratings = np.where(ratings== '0.0', 0, ratings) \n",
        "\n",
        "print((Counter(ratings)))\n"
      ],
      "execution_count": null,
      "outputs": [
        {
          "output_type": "stream",
          "text": [
            "Counter({'5': 675399, '4': 509007, '3': 210747, '2': 115501, '1': 109367, '0': 1935})\n"
          ],
          "name": "stdout"
        }
      ]
    },
    {
      "cell_type": "markdown",
      "metadata": {
        "id": "H0J4BKwxQBXf"
      },
      "source": [
        "# Now based on data\n",
        "Because data is large so we cannot process it for now and that is not the requirement.\n",
        "\n",
        "so read only 1935 instances of each class.  \n",
        "\n",
        "We can do this by doing downsampling using sklearn library but since data is large so it's gonna give memory error.\n",
        "\n",
        "So do it manually"
      ]
    },
    {
      "cell_type": "code",
      "metadata": {
        "id": "5xmT9gKgMtBo"
      },
      "source": [
        "def replaceRating(rat):\n",
        "    num = 0\n",
        "    if(rat == \"0.0\" or rat == \"0\"):\n",
        "        num= 0\n",
        "    elif(rat == \"1.0\" or rat == \"1\"):\n",
        "        num= 1\n",
        "    elif(rat == \"2.0\" or rat == \"2\"):\n",
        "        num= 2\n",
        "    elif(rat == \"3.0\" or rat == \"3\"):\n",
        "        num= 3\n",
        "    elif(rat == \"4.0\" or rat == \"4\"):\n",
        "        num= 4\n",
        "    elif(rat == \"5.0\" or rat == \"5\"):\n",
        "        num= 5\n",
        "    return num"
      ],
      "execution_count": null,
      "outputs": []
    },
    {
      "cell_type": "markdown",
      "metadata": {
        "id": "WejdNbFiQtqY"
      },
      "source": [
        "# Data Preprocessing\n",
        "because of model requirement only read reviews of length of MAX_LEN\n",
        "\n",
        "only read maxInstances reviews of each class\n",
        "\n",
        "check that review language is english not any other"
      ]
    },
    {
      "cell_type": "code",
      "metadata": {
        "id": "GWZYuWxvMyma",
        "outputId": "23c3ece7-3057-4041-f11f-4bf7b1d38b82",
        "colab": {
          "base_uri": "https://localhost:8080/"
        }
      },
      "source": [
        "# Set the maximum sequence length. \n",
        "MAX_LEN = 200\n",
        "# read limited data of each class\n",
        "maxInstances = 1935\n",
        "\n",
        "\n",
        "fileNames = os.listdir(\"json\")\n",
        "instances = [0,0,0,0,0,0]\n",
        "contents= []\n",
        "ratings = []\n",
        "for fileName in fileNames:\n",
        "    with open((\"json/\"+fileName)) as file:\n",
        "        fileData = json.load(file)\n",
        "        for review in fileData[\"Reviews\"]:\n",
        "            if ('Content' in review and len(review['Content']) != 0 and 'Overall' in review[\"Ratings\"] and len(review[\"Ratings\"]['Overall']) != 0):\n",
        "                content = review[\"Content\"]\n",
        "                rating = review[\"Ratings\"][\"Overall\"]\n",
        "                rating = replaceRating(rating)\n",
        "                \n",
        "                if instances[rating] < maxInstances and detect(content) == (\"en\"):\n",
        "                    ratings.append(rating)\n",
        "                    instances[rating] += 1\n",
        "\n",
        "                    templength= len(content.split() )\n",
        "                    if templength < MAX_LEN:\n",
        "                        contents.append(content)\n",
        "                    else:\n",
        "                        temp= \"\"\n",
        "                        convert= content.split()\n",
        "                        for j in range(0, MAX_LEN):\n",
        "                            temp= temp+ \" \"+convert[j]\n",
        "                        contents.append(temp)    \n",
        "                    \n",
        "\n",
        "    if (instances[0] + instances[1] + instances[2]+instances[3]+instances[4]+ instances[5]) >= (maxInstances*6):\n",
        "        break\n",
        "\n",
        "    \n",
        "print(len(contents))\n",
        "print(len(ratings))\n",
        "print(instances)"
      ],
      "execution_count": null,
      "outputs": [
        {
          "output_type": "stream",
          "text": [
            "11604\n",
            "11604\n",
            "[1929, 1935, 1935, 1935, 1935, 1935]\n"
          ],
          "name": "stdout"
        }
      ]
    },
    {
      "cell_type": "code",
      "metadata": {
        "id": "iTP_vmsRNyDm",
        "outputId": "591b87b7-41c1-41f1-97f1-bebd73d5c684",
        "colab": {
          "base_uri": "https://localhost:8080/"
        }
      },
      "source": [
        "#  get number of occurrences for each element\n",
        "Counter( ratings )"
      ],
      "execution_count": null,
      "outputs": [
        {
          "output_type": "execute_result",
          "data": {
            "text/plain": [
              "Counter({0: 1929, 1: 1935, 2: 1935, 3: 1935, 4: 1935, 5: 1935})"
            ]
          },
          "metadata": {
            "tags": []
          },
          "execution_count": 16
        }
      ]
    },
    {
      "cell_type": "code",
      "metadata": {
        "id": "Pg48pg3CP3NK",
        "outputId": "d2e2b4f2-3b11-4aea-a067-0cf836bbef60",
        "colab": {
          "base_uri": "https://localhost:8080/"
        }
      },
      "source": [
        "print(\"Sample review\")\n",
        "temp = 500\n",
        "print(contents[temp])\n",
        "print(ratings[temp])"
      ],
      "execution_count": null,
      "outputs": [
        {
          "output_type": "stream",
          "text": [
            "Sample review\n",
            "Kudos Hotel Solamar! Trendy, upscale and warm. We've stayed in many hotels from NYC to San Francisco and Hotel Solamar competes!!!!! Wonderful decor and excellent service. Had no issues with the Bar or noise.\n",
            "5\n"
          ],
          "name": "stdout"
        }
      ]
    },
    {
      "cell_type": "code",
      "metadata": {
        "id": "OQYbgtDdSoo-",
        "outputId": "1799ec07-c440-4e83-b277-97e4819e61b8",
        "colab": {
          "base_uri": "https://localhost:8080/"
        }
      },
      "source": [
        "sentences = contents\n",
        "labels= ratings\n",
        "\n",
        "print(len(sentences))\n",
        "print(len(labels))"
      ],
      "execution_count": null,
      "outputs": [
        {
          "output_type": "stream",
          "text": [
            "11604\n",
            "11604\n"
          ],
          "name": "stdout"
        }
      ]
    },
    {
      "cell_type": "markdown",
      "metadata": {
        "id": "FyEddCZNRXoi"
      },
      "source": [
        "# Convert data for XLnet input"
      ]
    },
    {
      "cell_type": "code",
      "metadata": {
        "id": "6Imy9ozVZJEp"
      },
      "source": [
        "#  add sep and cls tokens \n",
        "sentences = [sentence + \" [SEP] [CLS]\" for sentence in sentences]\n"
      ],
      "execution_count": null,
      "outputs": []
    },
    {
      "cell_type": "code",
      "metadata": {
        "id": "j-6M9xR5SkDB",
        "outputId": "3bee2300-a6b6-4dfc-ef44-a385e22cee06",
        "colab": {
          "base_uri": "https://localhost:8080/",
          "height": 66,
          "referenced_widgets": [
            "155ece99ecf645c8bc0a44e80c3d8d1c",
            "eb72ba37f7ad4ac7bd1ed14a43360dc5",
            "94629abd472b476da5c7b07c80584793",
            "6d7d990953854bd2a5f0e8b313f8c93a",
            "ba0daed937cb4765a1b73734283a4ae7",
            "f274cbc8d1194808b50af395a0f7cd0f",
            "458c1aa481314d50b7349a1f7c85948d",
            "3e4dd5186d9448b8ae40c61228e84372"
          ]
        }
      },
      "source": [
        "# load xlnet-base-cased tokenizer for tokens\n",
        "tokenizer = XLNetTokenizer.from_pretrained('xlnet-base-cased', do_lower_case=True)\n",
        "# tokenizer = XLNetTokenizer.from_pretrained('xlnet-large-cased', do_lower_case=True)"
      ],
      "execution_count": null,
      "outputs": [
        {
          "output_type": "display_data",
          "data": {
            "application/vnd.jupyter.widget-view+json": {
              "model_id": "155ece99ecf645c8bc0a44e80c3d8d1c",
              "version_minor": 0,
              "version_major": 2
            },
            "text/plain": [
              "HBox(children=(FloatProgress(value=0.0, description='Downloading', max=798011.0, style=ProgressStyle(descripti…"
            ]
          },
          "metadata": {
            "tags": []
          }
        },
        {
          "output_type": "stream",
          "text": [
            "\n"
          ],
          "name": "stdout"
        }
      ]
    },
    {
      "cell_type": "code",
      "metadata": {
        "id": "wsWD-orXZJHJ",
        "outputId": "c1cf1041-9e62-4580-9abd-65cf78b5bcf2",
        "colab": {
          "base_uri": "https://localhost:8080/"
        }
      },
      "source": [
        "tokenized_texts = [tokenizer.tokenize(sent) for sent in sentences]\n",
        "print (\"Tokenize the first sentence:\")\n",
        "print (tokenized_texts[0])"
      ],
      "execution_count": null,
      "outputs": [
        {
          "output_type": "stream",
          "text": [
            "Tokenize the first sentence:\n",
            "['▁', 'i', '▁stayed', '▁at', '▁hotel', '▁so', 'la', 'mar', '▁during', '▁a', '▁business', '▁trip', '▁and', '▁chose', '▁it', '▁in', '▁part', '▁because', '▁', 'i', '▁have', '▁stayed', '▁at', '▁other', '▁', 'k', 'imp', 'tom', '▁properties', '▁', '-', '▁and', '▁have', '▁had', '▁great', '▁experiences', '.', '▁so', 'la', 'mar', '▁did', '▁not', '▁disappoint', '.', '▁the', '▁staff', '▁were', '▁friendly', ',', '▁very', '▁helpful', '▁and', '▁quite', '▁professional', '.', '▁room', '▁was', '▁lovely', '▁and', '▁comfortable', '.', '▁food', '▁was', '▁excellent', '▁as', '▁was', '▁the', '▁pool', '▁bar', '.', '▁', 'i', '▁will', '▁certainly', '▁be', '▁back', '.', '▁[', 's', 'ep', ']', '▁[', 'cl', 's', ']']\n"
          ],
          "name": "stdout"
        }
      ]
    },
    {
      "cell_type": "code",
      "metadata": {
        "id": "CqTqlCjNZJWb"
      },
      "source": [
        "\n",
        "# Use the XLNet tokenizer to convert the tokens to their index numbers in the XLNet vocabulary\n",
        "input_ids = [tokenizer.convert_tokens_to_ids(x) for x in tokenized_texts]\n"
      ],
      "execution_count": null,
      "outputs": []
    },
    {
      "cell_type": "code",
      "metadata": {
        "id": "pM_XW8atdnAq",
        "outputId": "7838d41d-7752-4b39-b1e6-1c8994b2c752",
        "colab": {
          "base_uri": "https://localhost:8080/"
        }
      },
      "source": [
        "# Pad our input tokens\n",
        "input_ids = pad_sequences(input_ids, maxlen=MAX_LEN, dtype=\"long\", truncating=\"post\", padding=\"post\")\n",
        "len(input_ids)"
      ],
      "execution_count": null,
      "outputs": [
        {
          "output_type": "execute_result",
          "data": {
            "text/plain": [
              "11604"
            ]
          },
          "metadata": {
            "tags": []
          },
          "execution_count": 23
        }
      ]
    },
    {
      "cell_type": "code",
      "metadata": {
        "id": "vNihGKYUdv_A"
      },
      "source": [
        "# Create attention masks\n",
        "attention_masks = []\n",
        "\n",
        "# Create a mask of 1s for each token followed by 0s for padding\n",
        "for seq in input_ids:\n",
        "  seq_mask = [float(i>0) for i in seq]\n",
        "  attention_masks.append(seq_mask)"
      ],
      "execution_count": null,
      "outputs": []
    },
    {
      "cell_type": "code",
      "metadata": {
        "id": "Tb3oxT0Kd7KO"
      },
      "source": [
        "# Use train_test_split to split our data into train and validation sets for training\n",
        "\n",
        "train_inputs, validation_inputs, train_labels, validation_labels = train_test_split(input_ids, labels, \n",
        "                                                            random_state=2018, test_size=0.2)\n",
        "train_masks, validation_masks, _, _ = train_test_split(attention_masks, input_ids,\n",
        "                                             random_state=2018, test_size=0.2)"
      ],
      "execution_count": null,
      "outputs": []
    },
    {
      "cell_type": "code",
      "metadata": {
        "id": "AOO594AEeT0H"
      },
      "source": [
        "# Convert all of our data into torch tensors, the required datatype for our model\n",
        "\n",
        "train_inputs = torch.tensor(train_inputs)\n",
        "validation_inputs = torch.tensor(validation_inputs)\n",
        "train_labels = torch.tensor(train_labels)\n",
        "validation_labels = torch.tensor(validation_labels)\n",
        "train_masks = torch.tensor(train_masks)\n",
        "validation_masks = torch.tensor(validation_masks)"
      ],
      "execution_count": null,
      "outputs": []
    },
    {
      "cell_type": "code",
      "metadata": {
        "id": "cP4cr4GCebyV"
      },
      "source": [
        "# Select a batch size for training. For fine-tuning with XLNet, \n",
        "# the authors recommend a batch size of 32, 48, or 128.\n",
        "#  We will use 32 here to avoid memory issues.\n",
        "batch_size = 16\n",
        "\n",
        "\n",
        "# Create an iterator of our data with torch DataLoader. This helps save on memory during training because, unlike a for loop, \n",
        "# with an iterator the entire dataset does not need to be loaded into memory\n",
        "\n",
        "train_data = TensorDataset(train_inputs, train_masks, train_labels)\n",
        "train_sampler = RandomSampler(train_data)\n",
        "train_dataloader = DataLoader(train_data, sampler=train_sampler, batch_size=batch_size)\n",
        "\n",
        "validation_data = TensorDataset(validation_inputs, validation_masks, validation_labels)\n",
        "validation_sampler = SequentialSampler(validation_data)\n",
        "validation_dataloader = DataLoader(validation_data, sampler=validation_sampler, batch_size=batch_size)\n"
      ],
      "execution_count": null,
      "outputs": []
    },
    {
      "cell_type": "code",
      "metadata": {
        "id": "bEecji1QnHkX",
        "outputId": "9ebcf1c1-79da-4d7a-8d88-5e5709192eb0",
        "colab": {
          "base_uri": "https://localhost:8080/",
          "height": 1000,
          "referenced_widgets": [
            "9528e3506bef457f9d466be1ad384239",
            "d0823145239c4c0d8c5cd53a8eee58fc",
            "bfd11ace73294a92bc3e73f9b3a621c7",
            "89e5812089fa4e00bb06fbb25564ef23",
            "106df0771f4f4e2b9f62f1dd9dc86e17",
            "dfdeee59b8da4cf092a69f8b8b54cdcc",
            "3115d4e28f314fa39ac7d310c917babd",
            "a83e0aa2d138431991112a4d7601969c",
            "0fbac7c2d5c049a19eaeb64a39b78523",
            "472e0ac49b0b44fda5a2b4d2103e6502",
            "b31465fd74604007990315171fe6a39c",
            "377a96201fa14b23ac6853197dddc237",
            "10c025df022f4e8bba2e580979de618f",
            "2352a9b3357a492f83fada0b897520c2",
            "195a46cfc2fc4760a19d5c476f81067b",
            "be98d3e837b8470894eb9c33e1e3aefd"
          ]
        }
      },
      "source": [
        "# Load XLNEtForSequenceClassification, the pretrained XLNet model with a single linear classification layer on top. \n",
        "\n",
        "model = XLNetForSequenceClassification.from_pretrained(\"xlnet-base-cased\", num_labels=6)\n",
        "# model = XLNetForSequenceClassification.from_pretrained(\"xlnet-large-cased\", num_labels=6)\n",
        "\n",
        "model.cuda()"
      ],
      "execution_count": null,
      "outputs": [
        {
          "output_type": "display_data",
          "data": {
            "application/vnd.jupyter.widget-view+json": {
              "model_id": "9528e3506bef457f9d466be1ad384239",
              "version_minor": 0,
              "version_major": 2
            },
            "text/plain": [
              "HBox(children=(FloatProgress(value=0.0, description='Downloading', max=760.0, style=ProgressStyle(description_…"
            ]
          },
          "metadata": {
            "tags": []
          }
        },
        {
          "output_type": "stream",
          "text": [
            "\n"
          ],
          "name": "stdout"
        },
        {
          "output_type": "stream",
          "text": [
            "/usr/local/lib/python3.6/dist-packages/transformers/configuration_xlnet.py:212: FutureWarning: This config doesn't use attention memories, a core feature of XLNet. Consider setting `mem_len` to a non-zero value, for example `xlnet = XLNetLMHeadModel.from_pretrained('xlnet-base-cased'', mem_len=1024)`, for accurate training performance as well as an order of magnitude faster inference. Starting from version 3.5.0, the default parameter will be 1024, following the implementation in https://arxiv.org/abs/1906.08237\n",
            "  FutureWarning,\n"
          ],
          "name": "stderr"
        },
        {
          "output_type": "display_data",
          "data": {
            "application/vnd.jupyter.widget-view+json": {
              "model_id": "0fbac7c2d5c049a19eaeb64a39b78523",
              "version_minor": 0,
              "version_major": 2
            },
            "text/plain": [
              "HBox(children=(FloatProgress(value=0.0, description='Downloading', max=467042463.0, style=ProgressStyle(descri…"
            ]
          },
          "metadata": {
            "tags": []
          }
        },
        {
          "output_type": "stream",
          "text": [
            "\n"
          ],
          "name": "stdout"
        },
        {
          "output_type": "stream",
          "text": [
            "Some weights of the model checkpoint at xlnet-base-cased were not used when initializing XLNetForSequenceClassification: ['lm_loss.weight', 'lm_loss.bias']\n",
            "- This IS expected if you are initializing XLNetForSequenceClassification from the checkpoint of a model trained on another task or with another architecture (e.g. initializing a BertForSequenceClassification model from a BertForPretraining model).\n",
            "- This IS NOT expected if you are initializing XLNetForSequenceClassification from the checkpoint of a model that you expect to be exactly identical (initializing a BertForSequenceClassification model from a BertForSequenceClassification model).\n",
            "Some weights of XLNetForSequenceClassification were not initialized from the model checkpoint at xlnet-base-cased and are newly initialized: ['sequence_summary.summary.weight', 'sequence_summary.summary.bias', 'logits_proj.weight', 'logits_proj.bias']\n",
            "You should probably TRAIN this model on a down-stream task to be able to use it for predictions and inference.\n"
          ],
          "name": "stderr"
        },
        {
          "output_type": "execute_result",
          "data": {
            "text/plain": [
              "XLNetForSequenceClassification(\n",
              "  (transformer): XLNetModel(\n",
              "    (word_embedding): Embedding(32000, 768)\n",
              "    (layer): ModuleList(\n",
              "      (0): XLNetLayer(\n",
              "        (rel_attn): XLNetRelativeAttention(\n",
              "          (layer_norm): LayerNorm((768,), eps=1e-12, elementwise_affine=True)\n",
              "          (dropout): Dropout(p=0.1, inplace=False)\n",
              "        )\n",
              "        (ff): XLNetFeedForward(\n",
              "          (layer_norm): LayerNorm((768,), eps=1e-12, elementwise_affine=True)\n",
              "          (layer_1): Linear(in_features=768, out_features=3072, bias=True)\n",
              "          (layer_2): Linear(in_features=3072, out_features=768, bias=True)\n",
              "          (dropout): Dropout(p=0.1, inplace=False)\n",
              "        )\n",
              "        (dropout): Dropout(p=0.1, inplace=False)\n",
              "      )\n",
              "      (1): XLNetLayer(\n",
              "        (rel_attn): XLNetRelativeAttention(\n",
              "          (layer_norm): LayerNorm((768,), eps=1e-12, elementwise_affine=True)\n",
              "          (dropout): Dropout(p=0.1, inplace=False)\n",
              "        )\n",
              "        (ff): XLNetFeedForward(\n",
              "          (layer_norm): LayerNorm((768,), eps=1e-12, elementwise_affine=True)\n",
              "          (layer_1): Linear(in_features=768, out_features=3072, bias=True)\n",
              "          (layer_2): Linear(in_features=3072, out_features=768, bias=True)\n",
              "          (dropout): Dropout(p=0.1, inplace=False)\n",
              "        )\n",
              "        (dropout): Dropout(p=0.1, inplace=False)\n",
              "      )\n",
              "      (2): XLNetLayer(\n",
              "        (rel_attn): XLNetRelativeAttention(\n",
              "          (layer_norm): LayerNorm((768,), eps=1e-12, elementwise_affine=True)\n",
              "          (dropout): Dropout(p=0.1, inplace=False)\n",
              "        )\n",
              "        (ff): XLNetFeedForward(\n",
              "          (layer_norm): LayerNorm((768,), eps=1e-12, elementwise_affine=True)\n",
              "          (layer_1): Linear(in_features=768, out_features=3072, bias=True)\n",
              "          (layer_2): Linear(in_features=3072, out_features=768, bias=True)\n",
              "          (dropout): Dropout(p=0.1, inplace=False)\n",
              "        )\n",
              "        (dropout): Dropout(p=0.1, inplace=False)\n",
              "      )\n",
              "      (3): XLNetLayer(\n",
              "        (rel_attn): XLNetRelativeAttention(\n",
              "          (layer_norm): LayerNorm((768,), eps=1e-12, elementwise_affine=True)\n",
              "          (dropout): Dropout(p=0.1, inplace=False)\n",
              "        )\n",
              "        (ff): XLNetFeedForward(\n",
              "          (layer_norm): LayerNorm((768,), eps=1e-12, elementwise_affine=True)\n",
              "          (layer_1): Linear(in_features=768, out_features=3072, bias=True)\n",
              "          (layer_2): Linear(in_features=3072, out_features=768, bias=True)\n",
              "          (dropout): Dropout(p=0.1, inplace=False)\n",
              "        )\n",
              "        (dropout): Dropout(p=0.1, inplace=False)\n",
              "      )\n",
              "      (4): XLNetLayer(\n",
              "        (rel_attn): XLNetRelativeAttention(\n",
              "          (layer_norm): LayerNorm((768,), eps=1e-12, elementwise_affine=True)\n",
              "          (dropout): Dropout(p=0.1, inplace=False)\n",
              "        )\n",
              "        (ff): XLNetFeedForward(\n",
              "          (layer_norm): LayerNorm((768,), eps=1e-12, elementwise_affine=True)\n",
              "          (layer_1): Linear(in_features=768, out_features=3072, bias=True)\n",
              "          (layer_2): Linear(in_features=3072, out_features=768, bias=True)\n",
              "          (dropout): Dropout(p=0.1, inplace=False)\n",
              "        )\n",
              "        (dropout): Dropout(p=0.1, inplace=False)\n",
              "      )\n",
              "      (5): XLNetLayer(\n",
              "        (rel_attn): XLNetRelativeAttention(\n",
              "          (layer_norm): LayerNorm((768,), eps=1e-12, elementwise_affine=True)\n",
              "          (dropout): Dropout(p=0.1, inplace=False)\n",
              "        )\n",
              "        (ff): XLNetFeedForward(\n",
              "          (layer_norm): LayerNorm((768,), eps=1e-12, elementwise_affine=True)\n",
              "          (layer_1): Linear(in_features=768, out_features=3072, bias=True)\n",
              "          (layer_2): Linear(in_features=3072, out_features=768, bias=True)\n",
              "          (dropout): Dropout(p=0.1, inplace=False)\n",
              "        )\n",
              "        (dropout): Dropout(p=0.1, inplace=False)\n",
              "      )\n",
              "      (6): XLNetLayer(\n",
              "        (rel_attn): XLNetRelativeAttention(\n",
              "          (layer_norm): LayerNorm((768,), eps=1e-12, elementwise_affine=True)\n",
              "          (dropout): Dropout(p=0.1, inplace=False)\n",
              "        )\n",
              "        (ff): XLNetFeedForward(\n",
              "          (layer_norm): LayerNorm((768,), eps=1e-12, elementwise_affine=True)\n",
              "          (layer_1): Linear(in_features=768, out_features=3072, bias=True)\n",
              "          (layer_2): Linear(in_features=3072, out_features=768, bias=True)\n",
              "          (dropout): Dropout(p=0.1, inplace=False)\n",
              "        )\n",
              "        (dropout): Dropout(p=0.1, inplace=False)\n",
              "      )\n",
              "      (7): XLNetLayer(\n",
              "        (rel_attn): XLNetRelativeAttention(\n",
              "          (layer_norm): LayerNorm((768,), eps=1e-12, elementwise_affine=True)\n",
              "          (dropout): Dropout(p=0.1, inplace=False)\n",
              "        )\n",
              "        (ff): XLNetFeedForward(\n",
              "          (layer_norm): LayerNorm((768,), eps=1e-12, elementwise_affine=True)\n",
              "          (layer_1): Linear(in_features=768, out_features=3072, bias=True)\n",
              "          (layer_2): Linear(in_features=3072, out_features=768, bias=True)\n",
              "          (dropout): Dropout(p=0.1, inplace=False)\n",
              "        )\n",
              "        (dropout): Dropout(p=0.1, inplace=False)\n",
              "      )\n",
              "      (8): XLNetLayer(\n",
              "        (rel_attn): XLNetRelativeAttention(\n",
              "          (layer_norm): LayerNorm((768,), eps=1e-12, elementwise_affine=True)\n",
              "          (dropout): Dropout(p=0.1, inplace=False)\n",
              "        )\n",
              "        (ff): XLNetFeedForward(\n",
              "          (layer_norm): LayerNorm((768,), eps=1e-12, elementwise_affine=True)\n",
              "          (layer_1): Linear(in_features=768, out_features=3072, bias=True)\n",
              "          (layer_2): Linear(in_features=3072, out_features=768, bias=True)\n",
              "          (dropout): Dropout(p=0.1, inplace=False)\n",
              "        )\n",
              "        (dropout): Dropout(p=0.1, inplace=False)\n",
              "      )\n",
              "      (9): XLNetLayer(\n",
              "        (rel_attn): XLNetRelativeAttention(\n",
              "          (layer_norm): LayerNorm((768,), eps=1e-12, elementwise_affine=True)\n",
              "          (dropout): Dropout(p=0.1, inplace=False)\n",
              "        )\n",
              "        (ff): XLNetFeedForward(\n",
              "          (layer_norm): LayerNorm((768,), eps=1e-12, elementwise_affine=True)\n",
              "          (layer_1): Linear(in_features=768, out_features=3072, bias=True)\n",
              "          (layer_2): Linear(in_features=3072, out_features=768, bias=True)\n",
              "          (dropout): Dropout(p=0.1, inplace=False)\n",
              "        )\n",
              "        (dropout): Dropout(p=0.1, inplace=False)\n",
              "      )\n",
              "      (10): XLNetLayer(\n",
              "        (rel_attn): XLNetRelativeAttention(\n",
              "          (layer_norm): LayerNorm((768,), eps=1e-12, elementwise_affine=True)\n",
              "          (dropout): Dropout(p=0.1, inplace=False)\n",
              "        )\n",
              "        (ff): XLNetFeedForward(\n",
              "          (layer_norm): LayerNorm((768,), eps=1e-12, elementwise_affine=True)\n",
              "          (layer_1): Linear(in_features=768, out_features=3072, bias=True)\n",
              "          (layer_2): Linear(in_features=3072, out_features=768, bias=True)\n",
              "          (dropout): Dropout(p=0.1, inplace=False)\n",
              "        )\n",
              "        (dropout): Dropout(p=0.1, inplace=False)\n",
              "      )\n",
              "      (11): XLNetLayer(\n",
              "        (rel_attn): XLNetRelativeAttention(\n",
              "          (layer_norm): LayerNorm((768,), eps=1e-12, elementwise_affine=True)\n",
              "          (dropout): Dropout(p=0.1, inplace=False)\n",
              "        )\n",
              "        (ff): XLNetFeedForward(\n",
              "          (layer_norm): LayerNorm((768,), eps=1e-12, elementwise_affine=True)\n",
              "          (layer_1): Linear(in_features=768, out_features=3072, bias=True)\n",
              "          (layer_2): Linear(in_features=3072, out_features=768, bias=True)\n",
              "          (dropout): Dropout(p=0.1, inplace=False)\n",
              "        )\n",
              "        (dropout): Dropout(p=0.1, inplace=False)\n",
              "      )\n",
              "    )\n",
              "    (dropout): Dropout(p=0.1, inplace=False)\n",
              "  )\n",
              "  (sequence_summary): SequenceSummary(\n",
              "    (summary): Linear(in_features=768, out_features=768, bias=True)\n",
              "    (first_dropout): Identity()\n",
              "    (last_dropout): Dropout(p=0.1, inplace=False)\n",
              "  )\n",
              "  (logits_proj): Linear(in_features=768, out_features=6, bias=True)\n",
              ")"
            ]
          },
          "metadata": {
            "tags": []
          },
          "execution_count": 28
        }
      ]
    },
    {
      "cell_type": "code",
      "metadata": {
        "id": "DYJU9aWpnHoN"
      },
      "source": [
        "param_optimizer = list(model.named_parameters())\n",
        "no_decay = ['bias', 'gamma', 'beta']\n",
        "optimizer_grouped_parameters = [\n",
        "    {'params': [p for n, p in param_optimizer if not any(nd in n for nd in no_decay)],\n",
        "     'weight_decay_rate': 0.01},\n",
        "    {'params': [p for n, p in param_optimizer if any(nd in n for nd in no_decay)],\n",
        "     'weight_decay_rate': 0.0}\n",
        "]\n"
      ],
      "execution_count": null,
      "outputs": []
    },
    {
      "cell_type": "code",
      "metadata": {
        "id": "3zsMbo2TnZTR"
      },
      "source": [
        "# This variable contains all of the hyperparemeter information our training loop needs\n",
        "optimizer = AdamW(optimizer_grouped_parameters,\n",
        "                     lr=2e-5)"
      ],
      "execution_count": null,
      "outputs": []
    },
    {
      "cell_type": "code",
      "metadata": {
        "id": "0z1YVIV_nZXE"
      },
      "source": [
        "# Function to calculate the accuracy of our predictions vs labels\n",
        "class Record():\n",
        "  def __init__(self ):\n",
        "    self.first_preds = []\n",
        "    self.second_preds = []\n",
        "    self.third_preds = []\n",
        "    self.fourth_preds = []\n",
        "\n",
        "    self.first_labels = []\n",
        "    self.second_labels = []\n",
        "    self.third_labels = []\n",
        "    self.fourth_labels = []\n",
        "    self.first_loss = 0.0\n",
        "    self.second_loss = 0.0\n",
        "    self.third_loss = 0.0\n",
        "    self.fourth_loss = 0.0\n",
        "\n",
        "def flat_accuracy(preds, labels, epoch_num, record):\n",
        "    pred_flat = np.argmax(preds, axis=1).flatten()\n",
        "    labels_flat = labels.flatten()\n",
        "    temp_loss = np.sum(pred_flat == labels_flat) / len(labels_flat)\n",
        "    # print(pred_flat)\n",
        "    # print(type(pred_flat))\n",
        "    # print()\n",
        "    # print(record.first_preds)\n",
        "    if epoch_num == 0 :\n",
        "      record.first_preds += list(pred_flat)\n",
        "      record.first_labels += list(labels_flat)\n",
        "      record.first_loss += temp_loss\n",
        "    elif epoch_num == 1:\n",
        "      record.second_preds += list(pred_flat)\n",
        "      record.second_labels += list(labels_flat)\n",
        "      record.second_loss += temp_loss\n",
        "    elif epoch_num == 2 :\n",
        "      record.third_preds += list(pred_flat)\n",
        "      record.third_labels += list(labels_flat)\n",
        "      record.third_loss += temp_loss\n",
        "    elif epoch_num == 3 :\n",
        "      record.fourth_preds += list(pred_flat)\n",
        "      record.fourth_labels += list(labels_flat)\n",
        "      record.fourth_loss += temp_loss\n",
        "    \n",
        "    return temp_loss, record"
      ],
      "execution_count": null,
      "outputs": []
    },
    {
      "cell_type": "code",
      "metadata": {
        "id": "Aw2Dt0znJ2_Z"
      },
      "source": [
        "import time\n",
        "import datetime\n",
        "\n",
        "def format_time(elapsed):\n",
        "    '''\n",
        "    Takes a time in seconds and returns a string hh:mm:ss\n",
        "    '''\n",
        "    # Round to the nearest second.\n",
        "    elapsed_rounded = int(round((elapsed)))\n",
        "    \n",
        "    # Format as hh:mm:ss\n",
        "    return str(datetime.timedelta(seconds=elapsed_rounded))\n"
      ],
      "execution_count": null,
      "outputs": []
    },
    {
      "cell_type": "code",
      "metadata": {
        "id": "d0fS8ZVIXnSg",
        "outputId": "2b81ec3e-c75a-4009-a1b2-597dc8fd1cde",
        "colab": {
          "base_uri": "https://localhost:8080/"
        }
      },
      "source": [
        "record = Record()\n",
        "\n",
        "# Store our loss and accuracy for plotting\n",
        "train_loss_set = []\n",
        "\n",
        "# We'll store a number of quantities such as training and validation loss, \n",
        "# validation accuracy, and timings.\n",
        "training_stats = []\n",
        "\n",
        "# Number of training epochs (authors recommend between 2 and 4)\n",
        "epochs = 2\n",
        "\n",
        "# Measure the total training time for the whole run.\n",
        "total_t0 = time.time()\n",
        "\n",
        "\n",
        "# trange is a tqdm wrapper around the normal python range\n",
        "for epoch_i in range(0, epochs):\n",
        "  print(\"\")\n",
        "  print('======== Epoch {:} / {:} ========'.format(epoch_i + 1, epochs))\n",
        "  print('Training...')\n",
        "\n",
        "  t0 = time.time()\n",
        "\n",
        "  # Training\n",
        "  \n",
        "  # Set our model to training mode (as opposed to evaluation mode)\n",
        "  model.train()\n",
        "\n",
        "  # Reset the total loss for this epoch.\n",
        "  total_train_loss = 0\n",
        "  \n",
        "  # # Tracking variables\n",
        "  # tr_loss = 0\n",
        "  # nb_tr_examples, nb_tr_steps = 0, 0\n",
        "  \n",
        "  # Train the data for one epoch\n",
        "  for step, batch in enumerate(train_dataloader):\n",
        "\n",
        "    # Add batch to GPU\n",
        "    batch = tuple(t.to(device) for t in batch)\n",
        "    # Unpack the inputs from our dataloader\n",
        "    b_input_ids, b_input_mask, b_labels = batch\n",
        "    # Clear out the gradients (by default they accumulate)\n",
        "    optimizer.zero_grad()\n",
        "    # Forward pass\n",
        "    outputs = model(b_input_ids, token_type_ids=None, attention_mask=b_input_mask, labels=b_labels)\n",
        "    loss = outputs[0]\n",
        "    logits = outputs[1]\n",
        "    train_loss_set.append(loss.item())  \n",
        "    # Accumulate the training loss over all of the batches so that we can\n",
        "        # calculate the average loss at the end. `loss` is a Tensor containing a\n",
        "        # single value; the `.item()` function just returns the Python value \n",
        "        # from the tensor.\n",
        "    total_train_loss += loss.item()\n",
        "  \n",
        "    # Backward pass\n",
        "    loss.backward()\n",
        "    # Update parameters and take a step using the computed gradient\n",
        "    optimizer.step()\n",
        "    \n",
        "    \n",
        "    # Update tracking variables\n",
        "    # tr_loss += loss.item()\n",
        "    # nb_tr_examples += b_input_ids.size(0)\n",
        "    # nb_tr_steps += 1\n",
        "  # print(\"Train loss: {}\".format(tr_loss/nb_tr_steps))\n",
        "\n",
        "  # Calculate the average loss over all of the batches.\n",
        "  avg_train_loss = total_train_loss / len(train_dataloader)            \n",
        "    \n",
        "    # Measure how long this epoch took.\n",
        "  training_time = format_time(time.time() - t0)\n",
        "\n",
        "  print(\"\")\n",
        "  print(\"  Average training loss: {0:.2f}\".format(avg_train_loss))\n",
        "  print(\"  Training epcoh took: {:}\".format(training_time))\n",
        "\n",
        "  t0 = time.time()\n",
        "    \n",
        "    \n",
        "  # Validation\n",
        "  print(\"\")\n",
        "  print(\"Running Validation...\")\n",
        "\n",
        "  # Put model in evaluation mode to evaluate loss on the validation set\n",
        "  model.eval()\n",
        "\n",
        "  # Tracking variables \n",
        "  total_eval_accuracy = 0\n",
        "  total_eval_loss = 0\n",
        "  nb_eval_steps = 0\n",
        "  \n",
        "  # Evaluate data for one epoch\n",
        "  for batch in validation_dataloader:\n",
        "    # Add batch to GPU\n",
        "    batch = tuple(t.to(device) for t in batch)\n",
        "    # Unpack the inputs from our dataloader\n",
        "    b_input_ids, b_input_mask, b_labels = batch\n",
        "    # Telling the model not to compute or store gradients, saving memory and speeding up validation\n",
        "    with torch.no_grad():\n",
        "      # Forward pass, calculate logit predictions\n",
        "      outputs  = model(b_input_ids, token_type_ids=None, attention_mask=b_input_mask, labels=b_labels)\n",
        "      loss = outputs[0]\n",
        "      logits = outputs[1]\n",
        "\n",
        "    # Accumulate the validation loss.\n",
        "    total_eval_loss += loss.item()    \n",
        "    \n",
        "    # Move logits and labels to CPU\n",
        "    logits = logits.detach().cpu().numpy()\n",
        "    label_ids = b_labels.to('cpu').numpy()\n",
        "\n",
        "    batch_accuracy, record = flat_accuracy(logits, label_ids, epoch_i, record)\n",
        "    total_eval_accuracy += batch_accuracy\n",
        "    \n",
        "    # Report the final accuracy for this validation run.\n",
        "  avg_val_accuracy = total_eval_accuracy / len(validation_dataloader)\n",
        "  print(\"  Accuracy: {0:.2f}\".format(avg_val_accuracy))\n",
        "\n",
        "    # Calculate the average loss over all of the batches.\n",
        "  avg_val_loss = total_eval_loss / len(validation_dataloader)\n",
        "    \n",
        "    # Measure how long the validation run took.\n",
        "  validation_time = format_time(time.time() - t0)\n",
        "    \n",
        "  print(\"  Validation Loss: {0:.2f}\".format(avg_val_loss))\n",
        "  print(\"  Validation took: {:}\".format(validation_time))\n",
        "\n",
        "    # Record all statistics from this epoch.\n",
        "  training_stats.append(\n",
        "      {\n",
        "          'epoch': epoch_i + 1,\n",
        "          'Training Loss': avg_train_loss,\n",
        "          'Valid. Loss': avg_val_loss,\n",
        "          'Valid. Accur.': avg_val_accuracy,\n",
        "          'Training Time': training_time,\n",
        "          'Validation Time': validation_time\n",
        "      }\n",
        "  )\n",
        "    \n",
        "  # print(\"Validation Accuracy: {}\".format(eval_accuracy/nb_eval_steps))\n"
      ],
      "execution_count": null,
      "outputs": [
        {
          "output_type": "stream",
          "text": [
            "\n",
            "======== Epoch 1 / 2 ========\n",
            "Training...\n",
            "\n",
            "  Average training loss: 0.89\n",
            "  Training epcoh took: 0:04:27\n",
            "\n",
            "Running Validation...\n",
            "  Accuracy: 0.63\n",
            "  Validation Loss: 0.79\n",
            "  Validation took: 0:00:25\n",
            "\n",
            "======== Epoch 2 / 2 ========\n",
            "Training...\n",
            "\n",
            "  Average training loss: 0.68\n",
            "  Training epcoh took: 0:04:27\n",
            "\n",
            "Running Validation...\n",
            "  Accuracy: 0.66\n",
            "  Validation Loss: 0.79\n",
            "  Validation took: 0:00:25\n"
          ],
          "name": "stdout"
        }
      ]
    },
    {
      "cell_type": "code",
      "metadata": {
        "id": "iGyvEDMqoKFW",
        "outputId": "f66ea73f-c165-494e-b94d-028eed74eaed",
        "colab": {
          "base_uri": "https://localhost:8080/",
          "height": 535
        }
      },
      "source": [
        "# Let’s take a look at our training loss over all batches:\n",
        "\n",
        "plt.figure(figsize=(15,8))\n",
        "plt.title(\"Training loss\")\n",
        "plt.xlabel(\"Batch\")\n",
        "plt.ylabel(\"Loss\")\n",
        "plt.plot(train_loss_set)\n",
        "plt.show()"
      ],
      "execution_count": null,
      "outputs": [
        {
          "output_type": "display_data",
          "data": {
            "image/png": "[encoded data removed]",
            "text/plain": [
              "<Figure size 1080x576 with 1 Axes>"
            ]
          },
          "metadata": {
            "tags": [],
            "needs_background": "light"
          }
        }
      ]
    },
    {
      "cell_type": "code",
      "metadata": {
        "id": "lp0AkejWoKJd",
        "outputId": "7e017824-a0af-40e3-a45b-572247064ee5",
        "colab": {
          "base_uri": "https://localhost:8080/",
          "height": 142
        }
      },
      "source": [
        "# check whole training loss\n",
        "import pandas as pd\n",
        "\n",
        "# Display floats with two decimal places.\n",
        "pd.set_option('precision', 2)\n",
        "\n",
        "# Create a DataFrame from our training statistics.\n",
        "df_stats = pd.DataFrame(data=training_stats)\n",
        "\n",
        "# Use the 'epoch' as the row index.\n",
        "df_stats = df_stats.set_index('epoch')\n",
        "\n",
        "# A hack to force the column headers to wrap.\n",
        "#df = df.style.set_table_styles([dict(selector=\"th\",props=[('max-width', '70px')])])\n",
        "\n",
        "# Display the table.\n",
        "df_stats"
      ],
      "execution_count": null,
      "outputs": [
        {
          "output_type": "execute_result",
          "data": {
            "text/html": [
              "<div>\n",
              "<style scoped>\n",
              "    .dataframe tbody tr th:only-of-type {\n",
              "        vertical-align: middle;\n",
              "    }\n",
              "\n",
              "    .dataframe tbody tr th {\n",
              "        vertical-align: top;\n",
              "    }\n",
              "\n",
              "    .dataframe thead th {\n",
              "        text-align: right;\n",
              "    }\n",
              "</style>\n",
              "<table border=\"1\" class=\"dataframe\">\n",
              "  <thead>\n",
              "    <tr style=\"text-align: right;\">\n",
              "      <th></th>\n",
              "      <th>Training Loss</th>\n",
              "      <th>Valid. Loss</th>\n",
              "      <th>Valid. Accur.</th>\n",
              "      <th>Training Time</th>\n",
              "      <th>Validation Time</th>\n",
              "    </tr>\n",
              "    <tr>\n",
              "      <th>epoch</th>\n",
              "      <th></th>\n",
              "      <th></th>\n",
              "      <th></th>\n",
              "      <th></th>\n",
              "      <th></th>\n",
              "    </tr>\n",
              "  </thead>\n",
              "  <tbody>\n",
              "    <tr>\n",
              "      <th>1</th>\n",
              "      <td>0.89</td>\n",
              "      <td>0.79</td>\n",
              "      <td>0.63</td>\n",
              "      <td>0:04:27</td>\n",
              "      <td>0:00:25</td>\n",
              "    </tr>\n",
              "    <tr>\n",
              "      <th>2</th>\n",
              "      <td>0.68</td>\n",
              "      <td>0.79</td>\n",
              "      <td>0.66</td>\n",
              "      <td>0:04:27</td>\n",
              "      <td>0:00:25</td>\n",
              "    </tr>\n",
              "  </tbody>\n",
              "</table>\n",
              "</div>"
            ],
            "text/plain": [
              "       Training Loss  Valid. Loss  Valid. Accur. Training Time Validation Time\n",
              "epoch                                                                         \n",
              "1               0.89         0.79           0.63       0:04:27         0:00:25\n",
              "2               0.68         0.79           0.66       0:04:27         0:00:25"
            ]
          },
          "metadata": {
            "tags": []
          },
          "execution_count": 35
        }
      ]
    },
    {
      "cell_type": "code",
      "metadata": {
        "id": "DV6cmEOroKQY",
        "outputId": "3c9eda6b-37a5-4667-ff17-31b0e8c47b1b",
        "colab": {
          "base_uri": "https://localhost:8080/",
          "height": 427
        }
      },
      "source": [
        "# plot training vs validation loss\n",
        "import matplotlib.pyplot as plt\n",
        "% matplotlib inline\n",
        "\n",
        "import seaborn as sns\n",
        "\n",
        "# Use plot styling from seaborn.\n",
        "sns.set(style='darkgrid')\n",
        "\n",
        "# Increase the plot size and font size.\n",
        "sns.set(font_scale=1.5)\n",
        "plt.rcParams[\"figure.figsize\"] = (12,6)\n",
        "\n",
        "# Plot the learning curve.\n",
        "plt.plot(df_stats['Training Loss'], 'b-o', label=\"Training\")\n",
        "plt.plot(df_stats['Valid. Loss'], 'g-o', label=\"Validation\")\n",
        "\n",
        "# Label the plot.\n",
        "plt.title(\"Training & Validation Loss\")\n",
        "plt.xlabel(\"Epoch\")\n",
        "plt.ylabel(\"Loss\")\n",
        "plt.legend()\n",
        "plt.xticks([1, 2, 3, 4])\n",
        "\n",
        "plt.show()"
      ],
      "execution_count": null,
      "outputs": [
        {
          "output_type": "display_data",
          "data": {
            "image/png": "[encoded data removed]",
            "text/plain": [
              "<Figure size 864x432 with 1 Axes>"
            ]
          },
          "metadata": {
            "tags": []
          }
        }
      ]
    },
    {
      "cell_type": "code",
      "metadata": {
        "id": "mrmyTF2m4Uu_"
      },
      "source": [
        "#  because for this only using two epochs so replace record for further computation\n",
        "record.fourth_labels = record.second_labels\n",
        "record.fourth_preds = record.second_preds "
      ],
      "execution_count": null,
      "outputs": []
    },
    {
      "cell_type": "code",
      "metadata": {
        "id": "RORDIpC6oKhL",
        "outputId": "e8cb8fc7-cd68-470c-f0df-c1ea7ba136cd",
        "colab": {
          "base_uri": "https://localhost:8080/"
        }
      },
      "source": [
        "# print  Confusion matrix\n",
        "from sklearn.metrics import classification_report\n",
        "\n",
        "conf_mat = classification_report(  record.fourth_labels, record.fourth_preds,) \n",
        "print( conf_mat)\n",
        "\n"
      ],
      "execution_count": null,
      "outputs": [
        {
          "output_type": "stream",
          "text": [
            "              precision    recall  f1-score   support\n",
            "\n",
            "           0       1.00      1.00      1.00       374\n",
            "           1       0.69      0.79      0.74       387\n",
            "           2       0.54      0.37      0.44       377\n",
            "           3       0.51      0.58      0.54       397\n",
            "           4       0.54      0.45      0.49       405\n",
            "           5       0.67      0.79      0.73       381\n",
            "\n",
            "    accuracy                           0.66      2321\n",
            "   macro avg       0.66      0.66      0.66      2321\n",
            "weighted avg       0.66      0.66      0.65      2321\n",
            "\n"
          ],
          "name": "stdout"
        }
      ]
    },
    {
      "cell_type": "code",
      "metadata": {
        "id": "-iggM6CDpuuN",
        "outputId": "adc5f9dd-a1b4-4a2d-8f5b-c3b7aba6adf7",
        "colab": {
          "base_uri": "https://localhost:8080/"
        }
      },
      "source": [
        "#  for analysis check unmatched reviews\n",
        "unmatch_count= 0\n",
        "for actual_label, pred_label in zip(record.fourth_labels, record.fourth_preds):\n",
        "  if actual_label != pred_label:\n",
        "    unmatch_count += 1\n",
        "    print(actual_label, pred_label)\n",
        "\n",
        "print(\"not matched count\", (unmatch_count/ len(record.fourth_labels)))\n",
        "   \n"
      ],
      "execution_count": null,
      "outputs": [
        {
          "output_type": "stream",
          "text": [
            "1 3\n",
            "3 4\n",
            "5 4\n",
            "3 4\n",
            "2 1\n",
            "4 3\n",
            "3 4\n",
            "5 3\n",
            "2 1\n",
            "5 4\n",
            "4 5\n",
            "4 5\n",
            "4 5\n",
            "1 2\n",
            "4 3\n",
            "3 5\n",
            "3 2\n",
            "1 3\n",
            "3 2\n",
            "2 1\n",
            "2 3\n",
            "4 3\n",
            "3 4\n",
            "4 5\n",
            "4 5\n",
            "2 3\n",
            "2 3\n",
            "5 3\n",
            "2 3\n",
            "2 3\n",
            "2 1\n",
            "3 4\n",
            "3 2\n",
            "4 5\n",
            "2 1\n",
            "3 4\n",
            "4 5\n",
            "4 3\n",
            "2 1\n",
            "2 1\n",
            "3 4\n",
            "2 4\n",
            "4 5\n",
            "4 5\n",
            "3 2\n",
            "4 3\n",
            "2 3\n",
            "2 3\n",
            "4 5\n",
            "4 5\n",
            "4 5\n",
            "4 3\n",
            "4 3\n",
            "3 2\n",
            "3 2\n",
            "2 1\n",
            "2 5\n",
            "2 1\n",
            "4 3\n",
            "4 5\n",
            "3 1\n",
            "1 2\n",
            "4 3\n",
            "3 4\n",
            "4 5\n",
            "1 3\n",
            "5 4\n",
            "5 4\n",
            "2 3\n",
            "3 2\n",
            "2 3\n",
            "2 3\n",
            "4 5\n",
            "3 2\n",
            "1 2\n",
            "2 1\n",
            "1 3\n",
            "5 4\n",
            "2 3\n",
            "3 4\n",
            "4 3\n",
            "2 1\n",
            "3 4\n",
            "3 2\n",
            "3 4\n",
            "1 3\n",
            "3 4\n",
            "4 3\n",
            "5 4\n",
            "1 2\n",
            "4 5\n",
            "2 1\n",
            "3 4\n",
            "2 3\n",
            "4 3\n",
            "2 4\n",
            "2 3\n",
            "4 5\n",
            "4 3\n",
            "3 5\n",
            "3 2\n",
            "4 3\n",
            "1 2\n",
            "3 4\n",
            "5 4\n",
            "1 2\n",
            "3 4\n",
            "4 5\n",
            "3 4\n",
            "4 5\n",
            "4 3\n",
            "3 4\n",
            "3 4\n",
            "5 4\n",
            "4 3\n",
            "2 1\n",
            "1 2\n",
            "1 3\n",
            "3 2\n",
            "3 4\n",
            "4 5\n",
            "4 5\n",
            "2 1\n",
            "4 3\n",
            "2 3\n",
            "4 3\n",
            "1 2\n",
            "4 3\n",
            "2 3\n",
            "4 5\n",
            "4 5\n",
            "5 4\n",
            "3 5\n",
            "2 1\n",
            "1 2\n",
            "1 2\n",
            "1 2\n",
            "2 1\n",
            "2 1\n",
            "3 2\n",
            "1 2\n",
            "2 1\n",
            "2 1\n",
            "2 4\n",
            "2 1\n",
            "1 2\n",
            "2 3\n",
            "2 3\n",
            "4 2\n",
            "1 2\n",
            "2 1\n",
            "2 1\n",
            "4 5\n",
            "1 2\n",
            "2 3\n",
            "4 5\n",
            "5 3\n",
            "3 5\n",
            "2 3\n",
            "3 2\n",
            "1 2\n",
            "3 2\n",
            "3 2\n",
            "3 2\n",
            "4 3\n",
            "4 5\n",
            "4 5\n",
            "4 5\n",
            "2 1\n",
            "1 4\n",
            "2 1\n",
            "2 3\n",
            "2 1\n",
            "5 4\n",
            "5 4\n",
            "4 5\n",
            "4 5\n",
            "4 5\n",
            "5 4\n",
            "2 5\n",
            "1 3\n",
            "3 4\n",
            "2 4\n",
            "2 1\n",
            "1 2\n",
            "2 3\n",
            "4 5\n",
            "2 1\n",
            "5 4\n",
            "2 3\n",
            "2 3\n",
            "4 5\n",
            "3 2\n",
            "4 5\n",
            "3 2\n",
            "5 3\n",
            "2 3\n",
            "2 1\n",
            "3 4\n",
            "1 2\n",
            "4 5\n",
            "4 3\n",
            "3 4\n",
            "2 1\n",
            "1 2\n",
            "3 4\n",
            "3 4\n",
            "2 1\n",
            "1 3\n",
            "5 4\n",
            "5 4\n",
            "2 1\n",
            "4 5\n",
            "4 3\n",
            "3 2\n",
            "2 3\n",
            "4 5\n",
            "3 4\n",
            "4 5\n",
            "2 3\n",
            "2 3\n",
            "2 3\n",
            "3 4\n",
            "2 3\n",
            "2 3\n",
            "2 1\n",
            "3 2\n",
            "4 5\n",
            "5 4\n",
            "3 2\n",
            "2 3\n",
            "4 5\n",
            "3 2\n",
            "2 3\n",
            "4 5\n",
            "1 2\n",
            "2 1\n",
            "5 4\n",
            "1 2\n",
            "2 3\n",
            "1 2\n",
            "5 4\n",
            "5 4\n",
            "5 4\n",
            "4 5\n",
            "2 1\n",
            "4 5\n",
            "4 5\n",
            "4 5\n",
            "2 3\n",
            "5 4\n",
            "3 4\n",
            "4 5\n",
            "4 5\n",
            "4 3\n",
            "3 5\n",
            "2 1\n",
            "5 3\n",
            "2 1\n",
            "2 1\n",
            "4 3\n",
            "3 4\n",
            "4 5\n",
            "3 4\n",
            "5 4\n",
            "3 4\n",
            "4 5\n",
            "2 1\n",
            "4 5\n",
            "4 5\n",
            "4 5\n",
            "4 5\n",
            "2 3\n",
            "5 4\n",
            "1 2\n",
            "1 2\n",
            "1 3\n",
            "2 3\n",
            "2 3\n",
            "1 2\n",
            "3 4\n",
            "4 5\n",
            "5 3\n",
            "3 2\n",
            "2 3\n",
            "3 2\n",
            "4 5\n",
            "5 4\n",
            "4 5\n",
            "4 5\n",
            "5 1\n",
            "4 5\n",
            "3 5\n",
            "4 5\n",
            "3 2\n",
            "4 3\n",
            "5 4\n",
            "5 4\n",
            "4 3\n",
            "5 4\n",
            "3 2\n",
            "2 3\n",
            "2 4\n",
            "3 4\n",
            "4 5\n",
            "2 1\n",
            "3 4\n",
            "1 3\n",
            "4 3\n",
            "2 1\n",
            "4 5\n",
            "1 3\n",
            "3 4\n",
            "2 3\n",
            "5 4\n",
            "3 4\n",
            "3 1\n",
            "1 2\n",
            "4 5\n",
            "4 5\n",
            "2 3\n",
            "2 1\n",
            "4 3\n",
            "4 5\n",
            "4 3\n",
            "2 1\n",
            "3 2\n",
            "3 2\n",
            "2 3\n",
            "2 1\n",
            "5 4\n",
            "1 2\n",
            "3 4\n",
            "2 1\n",
            "3 4\n",
            "2 3\n",
            "2 1\n",
            "1 2\n",
            "2 1\n",
            "5 4\n",
            "4 5\n",
            "2 3\n",
            "4 5\n",
            "4 3\n",
            "5 4\n",
            "1 2\n",
            "2 1\n",
            "5 3\n",
            "1 3\n",
            "1 2\n",
            "3 2\n",
            "5 4\n",
            "4 5\n",
            "3 4\n",
            "2 3\n",
            "3 1\n",
            "5 4\n",
            "1 2\n",
            "3 4\n",
            "5 4\n",
            "3 2\n",
            "4 5\n",
            "3 4\n",
            "2 3\n",
            "3 2\n",
            "4 5\n",
            "5 4\n",
            "2 3\n",
            "3 4\n",
            "2 1\n",
            "3 4\n",
            "4 5\n",
            "5 4\n",
            "2 1\n",
            "1 2\n",
            "1 2\n",
            "3 2\n",
            "2 1\n",
            "4 2\n",
            "2 1\n",
            "3 4\n",
            "2 1\n",
            "5 4\n",
            "4 1\n",
            "4 5\n",
            "2 1\n",
            "2 3\n",
            "2 1\n",
            "4 3\n",
            "1 3\n",
            "3 2\n",
            "4 3\n",
            "5 4\n",
            "4 5\n",
            "4 3\n",
            "4 5\n",
            "5 4\n",
            "2 3\n",
            "4 5\n",
            "3 5\n",
            "3 4\n",
            "2 1\n",
            "2 3\n",
            "2 3\n",
            "4 1\n",
            "2 3\n",
            "4 3\n",
            "2 1\n",
            "4 5\n",
            "4 5\n",
            "5 4\n",
            "2 1\n",
            "2 3\n",
            "5 4\n",
            "2 1\n",
            "4 5\n",
            "2 3\n",
            "4 3\n",
            "3 4\n",
            "4 5\n",
            "4 3\n",
            "2 3\n",
            "2 1\n",
            "5 4\n",
            "4 3\n",
            "5 4\n",
            "1 2\n",
            "4 3\n",
            "1 3\n",
            "3 4\n",
            "3 2\n",
            "2 1\n",
            "3 4\n",
            "4 5\n",
            "4 3\n",
            "4 3\n",
            "2 1\n",
            "2 3\n",
            "3 2\n",
            "2 1\n",
            "1 2\n",
            "3 4\n",
            "4 3\n",
            "2 1\n",
            "1 2\n",
            "3 2\n",
            "2 3\n",
            "2 3\n",
            "5 4\n",
            "2 1\n",
            "4 5\n",
            "3 2\n",
            "2 3\n",
            "3 1\n",
            "2 4\n",
            "4 5\n",
            "5 4\n",
            "2 1\n",
            "2 1\n",
            "1 2\n",
            "2 1\n",
            "3 2\n",
            "3 2\n",
            "4 5\n",
            "2 3\n",
            "5 4\n",
            "4 3\n",
            "4 3\n",
            "4 3\n",
            "3 4\n",
            "2 4\n",
            "4 5\n",
            "1 2\n",
            "2 3\n",
            "2 1\n",
            "5 3\n",
            "2 3\n",
            "2 1\n",
            "4 5\n",
            "4 3\n",
            "4 3\n",
            "2 3\n",
            "2 3\n",
            "1 2\n",
            "4 5\n",
            "4 3\n",
            "2 3\n",
            "4 3\n",
            "3 4\n",
            "4 5\n",
            "3 5\n",
            "4 5\n",
            "2 3\n",
            "4 3\n",
            "2 1\n",
            "4 5\n",
            "4 5\n",
            "2 3\n",
            "3 4\n",
            "2 3\n",
            "4 3\n",
            "5 4\n",
            "2 3\n",
            "4 5\n",
            "3 4\n",
            "1 2\n",
            "4 3\n",
            "3 5\n",
            "2 1\n",
            "3 5\n",
            "2 1\n",
            "1 2\n",
            "5 4\n",
            "1 3\n",
            "3 2\n",
            "3 2\n",
            "2 3\n",
            "2 3\n",
            "4 5\n",
            "2 3\n",
            "2 1\n",
            "2 3\n",
            "2 1\n",
            "2 1\n",
            "4 5\n",
            "3 4\n",
            "1 3\n",
            "2 1\n",
            "4 5\n",
            "2 3\n",
            "3 4\n",
            "2 1\n",
            "2 3\n",
            "4 3\n",
            "5 4\n",
            "1 2\n",
            "1 2\n",
            "2 1\n",
            "1 2\n",
            "2 1\n",
            "2 3\n",
            "4 3\n",
            "3 2\n",
            "2 1\n",
            "2 1\n",
            "3 2\n",
            "2 3\n",
            "4 5\n",
            "4 5\n",
            "2 3\n",
            "3 4\n",
            "2 3\n",
            "4 3\n",
            "4 5\n",
            "3 4\n",
            "3 2\n",
            "3 2\n",
            "4 3\n",
            "4 5\n",
            "2 1\n",
            "2 3\n",
            "4 3\n",
            "5 4\n",
            "5 3\n",
            "2 1\n",
            "4 3\n",
            "4 3\n",
            "4 5\n",
            "4 3\n",
            "5 1\n",
            "1 3\n",
            "3 4\n",
            "2 3\n",
            "2 3\n",
            "3 1\n",
            "3 1\n",
            "4 5\n",
            "4 5\n",
            "3 2\n",
            "2 1\n",
            "2 1\n",
            "2 1\n",
            "2 3\n",
            "4 5\n",
            "4 5\n",
            "4 5\n",
            "3 2\n",
            "4 3\n",
            "5 4\n",
            "1 2\n",
            "4 3\n",
            "3 2\n",
            "1 3\n",
            "2 1\n",
            "2 1\n",
            "3 1\n",
            "4 3\n",
            "4 5\n",
            "5 4\n",
            "1 2\n",
            "4 5\n",
            "5 4\n",
            "4 3\n",
            "3 1\n",
            "3 4\n",
            "2 1\n",
            "4 5\n",
            "3 2\n",
            "3 1\n",
            "3 1\n",
            "4 3\n",
            "1 2\n",
            "2 3\n",
            "1 2\n",
            "3 5\n",
            "3 1\n",
            "2 3\n",
            "4 5\n",
            "3 4\n",
            "5 4\n",
            "2 1\n",
            "4 5\n",
            "2 3\n",
            "3 4\n",
            "2 3\n",
            "3 2\n",
            "4 5\n",
            "2 4\n",
            "2 1\n",
            "1 2\n",
            "3 4\n",
            "4 5\n",
            "4 5\n",
            "4 5\n",
            "3 2\n",
            "1 2\n",
            "5 4\n",
            "5 4\n",
            "2 1\n",
            "4 3\n",
            "3 2\n",
            "3 4\n",
            "2 3\n",
            "5 2\n",
            "4 5\n",
            "3 2\n",
            "2 1\n",
            "3 4\n",
            "1 3\n",
            "5 3\n",
            "2 3\n",
            "2 1\n",
            "4 5\n",
            "4 3\n",
            "5 4\n",
            "2 3\n",
            "3 1\n",
            "1 2\n",
            "4 3\n",
            "4 5\n",
            "2 1\n",
            "2 1\n",
            "3 4\n",
            "2 3\n",
            "4 5\n",
            "2 1\n",
            "4 5\n",
            "4 3\n",
            "2 1\n",
            "2 3\n",
            "3 4\n",
            "2 3\n",
            "3 4\n",
            "2 3\n",
            "3 4\n",
            "2 1\n",
            "2 3\n",
            "4 5\n",
            "1 2\n",
            "3 2\n",
            "3 4\n",
            "4 5\n",
            "3 5\n",
            "2 1\n",
            "4 5\n",
            "4 5\n",
            "4 3\n",
            "2 3\n",
            "4 5\n",
            "4 3\n",
            "2 1\n",
            "5 4\n",
            "2 3\n",
            "3 4\n",
            "3 2\n",
            "3 2\n",
            "5 4\n",
            "1 3\n",
            "2 1\n",
            "2 1\n",
            "1 2\n",
            "4 3\n",
            "1 3\n",
            "3 2\n",
            "4 3\n",
            "2 3\n",
            "2 1\n",
            "4 3\n",
            "2 1\n",
            "4 5\n",
            "4 3\n",
            "2 1\n",
            "2 3\n",
            "2 1\n",
            "4 5\n",
            "1 2\n",
            "4 1\n",
            "2 1\n",
            "2 3\n",
            "2 3\n",
            "2 1\n",
            "2 3\n",
            "5 4\n",
            "3 2\n",
            "5 4\n",
            "2 3\n",
            "5 4\n",
            "4 3\n",
            "2 1\n",
            "4 3\n",
            "2 1\n",
            "4 3\n",
            "2 3\n",
            "5 4\n",
            "4 5\n",
            "1 2\n",
            "5 4\n",
            "2 1\n",
            "3 4\n",
            "3 4\n",
            "3 5\n",
            "3 2\n",
            "4 3\n",
            "2 3\n",
            "4 3\n",
            "4 3\n",
            "4 3\n",
            "4 3\n",
            "4 5\n",
            "3 4\n",
            "4 5\n",
            "2 1\n",
            "5 4\n",
            "1 2\n",
            "4 5\n",
            "3 2\n",
            "4 3\n",
            "2 4\n",
            "2 1\n",
            "1 3\n",
            "4 5\n",
            "2 3\n",
            "3 4\n",
            "5 4\n",
            "5 4\n",
            "4 5\n",
            "4 3\n",
            "2 1\n",
            "4 3\n",
            "1 3\n",
            "4 5\n",
            "3 4\n",
            "3 5\n",
            "2 1\n",
            "3 4\n",
            "3 1\n",
            "3 2\n",
            "2 3\n",
            "3 2\n",
            "3 4\n",
            "2 1\n",
            "1 2\n",
            "4 5\n",
            "3 4\n",
            "2 1\n",
            "not matched count 0.33821628608358467\n"
          ],
          "name": "stdout"
        }
      ]
    },
    {
      "cell_type": "code",
      "metadata": {
        "id": "7JDTX6qekwYQ",
        "outputId": "de5ac62c-7405-425b-b46b-cfd2bc6d72ca",
        "colab": {
          "base_uri": "https://localhost:8080/"
        }
      },
      "source": [
        "from sklearn.metrics import matthews_corrcoef\n",
        "\n",
        "print('Matthews Corr. Coef.')\n",
        "matthews = matthews_corrcoef( record.fourth_labels, record.fourth_preds )        \n",
        "print(matthews)"
      ],
      "execution_count": null,
      "outputs": [
        {
          "output_type": "stream",
          "text": [
            "Matthews Corr. Coef.\n",
            "0.5959775475015184\n"
          ],
          "name": "stdout"
        }
      ]
    },
    {
      "cell_type": "code",
      "metadata": {
        "id": "esdopQ7wmMGZ",
        "outputId": "25703ba8-f901-465f-a3b4-f71ce2cbb5e6",
        "colab": {
          "base_uri": "https://localhost:8080/"
        }
      },
      "source": [
        "\n",
        "# Saving best-practices: if you use defaults names for the model, you can reload it using from_pretrained()\n",
        "import os\n",
        "output_dir = './model_save/'\n",
        "\n",
        "# Create output directory if needed\n",
        "if not os.path.exists(output_dir):\n",
        "    os.makedirs(output_dir)\n",
        "\n",
        "print(\"Saving model to %s\" % output_dir)\n",
        "\n",
        "# Save a trained model, configuration and tokenizer using `save_pretrained()`.\n",
        "# They can then be reloaded using `from_pretrained()`\n",
        "model_to_save = model.module if hasattr(model, 'module') else model  # Take care of distributed/parallel training\n",
        "model_to_save.save_pretrained(output_dir)\n",
        "tokenizer.save_pretrained(output_dir)\n",
        "\n",
        "# Good practice: save your training arguments together with the trained model\n",
        "# torch.save(args, os.path.join(output_dir, 'training_args.bin'))\n"
      ],
      "execution_count": null,
      "outputs": [
        {
          "output_type": "stream",
          "text": [
            "Saving model to ./model_save/\n"
          ],
          "name": "stdout"
        },
        {
          "output_type": "execute_result",
          "data": {
            "text/plain": [
              "('./model_save/tokenizer_config.json',\n",
              " './model_save/special_tokens_map.json',\n",
              " './model_save/spiece.model',\n",
              " './model_save/added_tokens.json')"
            ]
          },
          "metadata": {
            "tags": []
          },
          "execution_count": 41
        }
      ]
    },
    {
      "cell_type": "code",
      "metadata": {
        "id": "JAEJ-NZsmyCt"
      },
      "source": [
        "# Mount Google Drive to this Notebook instance.\n",
        "from google.colab import drive\n",
        "drive.mount('/content/drive')"
      ],
      "execution_count": null,
      "outputs": []
    },
    {
      "cell_type": "code",
      "metadata": {
        "id": "-a67YG0_nE3A"
      },
      "source": [
        "# Copy the model files to a directory in your Google Drive.\n",
        "!cp -r ./model_save/ \"/content/drive/My Drive/Projects/Hotel_Reviews\"\n",
        "\n"
      ],
      "execution_count": null,
      "outputs": []
    },
    {
      "cell_type": "code",
      "metadata": {
        "id": "3Y1-w977odLT"
      },
      "source": [
        ""
      ],
      "execution_count": null,
      "outputs": []
    }
  ]
}